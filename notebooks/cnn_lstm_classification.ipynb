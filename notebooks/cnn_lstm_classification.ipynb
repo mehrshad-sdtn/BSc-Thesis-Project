{
  "nbformat": 4,
  "nbformat_minor": 0,
  "metadata": {
    "colab": {
      "provenance": [],
      "collapsed_sections": []
    },
    "kernelspec": {
      "name": "python3",
      "display_name": "Python 3"
    },
    "language_info": {
      "name": "python"
    },
    "accelerator": "GPU"
  },
  "cells": [
    {
      "cell_type": "code",
      "execution_count": 1,
      "metadata": {
        "id": "J6XT9cPUdo_v"
      },
      "outputs": [],
      "source": [
        "import tensorflow as tf\n",
        "from tensorflow import keras\n",
        "import pickle\n",
        "import numpy as np\n",
        "import cv2\n",
        "import glob\n",
        "import pathlib\n",
        "import PIL, PIL.Image\n",
        "import os\n",
        "import math\n",
        "import random\n",
        "import matplotlib.pyplot as plt\n",
        "from keras.models import Sequential\n",
        "from keras.layers import (Conv2D, MaxPooling2D, Flatten, Activation, Dropout, Dense, TimeDistributed, LSTM, ConvLSTM2D, MaxPooling3D)"
      ]
    },
    {
      "cell_type": "code",
      "source": [
        "base_dir = '/content/drive/MyDrive'\n",
        "data_dir = os.path.join(base_dir, 'BSc_Project', 'out')\n",
        "a_dataset = pathlib.Path(os.path.join(data_dir, 'A'))"
      ],
      "metadata": {
        "id": "useNzesXd-z_"
      },
      "execution_count": 2,
      "outputs": []
    },
    {
      "cell_type": "code",
      "source": [
        "image_count = len(list(a_dataset.glob('*/*.png')))\n",
        "print('number of total images:', image_count, '\\n\\n')"
      ],
      "metadata": {
        "colab": {
          "base_uri": "https://localhost:8080/"
        },
        "id": "J5HWUC6-mBEn",
        "outputId": "1b7a1e73-868b-42e6-838a-f273647c6bc7"
      },
      "execution_count": 3,
      "outputs": [
        {
          "output_type": "stream",
          "name": "stdout",
          "text": [
            "number of total images: 948 \n",
            "\n",
            "\n"
          ]
        }
      ]
    },
    {
      "cell_type": "code",
      "source": [
        "def load_images(image_dims, data_dir):\n",
        "  dir = os.listdir(data_dir)\n",
        "  image_directory = [os.path.join(data_dir, image) for image in dir]\n",
        "  images = []\n",
        "  for i, image_path in enumerate(image_directory):\n",
        "    image = tf.keras.preprocessing.image.load_img(image_path, target_size=image_dims)\n",
        "    input_arr = (tf.keras.preprocessing.image.img_to_array(image))/255\n",
        "    images.append(input_arr)\n",
        "  return images\n",
        "\n",
        "# ------------------------------------------------------\n",
        "def list_segments(lst, segments):\n",
        "  arr = np.array(lst)\n",
        "  return np.array_split(np.array(arr), segments)\n"
      ],
      "metadata": {
        "id": "GplclP6jnIUe"
      },
      "execution_count": 4,
      "outputs": []
    },
    {
      "cell_type": "code",
      "source": [
        "norm_images = load_images(image_dims=(224, 224), data_dir=os.path.join(a_dataset, 'norm')) \n",
        "sch_images = load_images(image_dims=(224, 224), data_dir=os.path.join(a_dataset, 'sch')) \n",
        "norm_cases = list_segments(norm_images, (len(norm_images)//12))\n",
        "sch_cases = list_segments(sch_images, (len(sch_images)//12))"
      ],
      "metadata": {
        "id": "bHTaEkYzpfKm"
      },
      "execution_count": 5,
      "outputs": []
    },
    {
      "cell_type": "code",
      "source": [
        "# ----------------------------------------------\n",
        "def log_data_shapes(sch, norm):\n",
        "  return {\n",
        " 'sch': (len(sch), len(sch[0]), sch[0][0].shape), \n",
        " 'norm': (len(norm), len(norm[0]), norm[0][0].shape)}\n",
        "\n",
        "log_data_shapes(sch_cases, norm_cases)"
      ],
      "metadata": {
        "colab": {
          "base_uri": "https://localhost:8080/"
        },
        "id": "2SJO9md7qLma",
        "outputId": "f7260415-2694-4865-f7bc-98f29a2b9698"
      },
      "execution_count": 6,
      "outputs": [
        {
          "output_type": "execute_result",
          "data": {
            "text/plain": [
              "{'sch': (42, 12, (224, 224, 3)), 'norm': (37, 12, (224, 224, 3))}"
            ]
          },
          "metadata": {},
          "execution_count": 6
        }
      ]
    },
    {
      "cell_type": "code",
      "source": [
        "def attach_labels(dataset, label):\n",
        "  return [[sample, label] for sample in dataset]\n",
        "\n",
        "dataset = []\n",
        "dataset.extend(attach_labels(sch_cases, 0))\n",
        "dataset.extend(attach_labels(norm_cases, 1))"
      ],
      "metadata": {
        "id": "df9odu9gruuA"
      },
      "execution_count": 7,
      "outputs": []
    },
    {
      "cell_type": "code",
      "source": [
        "def log_shape(dataset):\n",
        "  print((len(dataset), len(dataset[0]), len(dataset[0][0]), (len(dataset[0][0][0]), len(dataset[0][0][0][0]), len(dataset[0][0][0][0][0]))))"
      ],
      "metadata": {
        "id": "fNjwuwZJt4cO"
      },
      "execution_count": 8,
      "outputs": []
    },
    {
      "cell_type": "code",
      "source": [
        "def split_train_test(dataset, ratio=0.8, seed=123):\n",
        "  train_len = math.floor(len(dataset) * ratio)\n",
        "  random.seed(seed)\n",
        "  random.shuffle(dataset)\n",
        "  return dataset[:train_len], dataset[train_len:]\n",
        "\n",
        "def split_data_label(dataset):\n",
        "  X = []\n",
        "  y = []\n",
        "  for sample, label in dataset:\n",
        "    X.append(sample)\n",
        "    y.append(label)\n",
        "  return np.array(X), np.array(y)\n",
        "\n",
        "\n",
        "train_data, test_data = split_train_test(dataset)\n",
        "print(len(train_data), len(test_data))\n",
        "X_train, y_train = split_data_label(train_data)\n",
        "X_test, y_test = split_data_label(test_data)"
      ],
      "metadata": {
        "colab": {
          "base_uri": "https://localhost:8080/"
        },
        "id": "vZ4ZR8cfucDu",
        "outputId": "693e95b2-1f81-410b-d8be-91bb2b47a19e"
      },
      "execution_count": 9,
      "outputs": [
        {
          "output_type": "stream",
          "name": "stdout",
          "text": [
            "63 16\n"
          ]
        }
      ]
    },
    {
      "cell_type": "code",
      "source": [
        "log_shape(train_data)\n",
        "log_shape(test_data)\n",
        "print(len(X_train), len(X_train[0]), (len(X_train[0][0]), len(X_train[0][0][0]), len(X_train[0][0][0][0])))"
      ],
      "metadata": {
        "colab": {
          "base_uri": "https://localhost:8080/"
        },
        "id": "_FIAar5iw7NH",
        "outputId": "cb4d59d7-e7c6-462d-abda-eed97a618f3d"
      },
      "execution_count": 10,
      "outputs": [
        {
          "output_type": "stream",
          "name": "stdout",
          "text": [
            "(63, 2, 12, (224, 224, 3))\n",
            "(16, 2, 12, (224, 224, 3))\n",
            "63 12 (224, 224, 3)\n"
          ]
        }
      ]
    },
    {
      "cell_type": "code",
      "source": [
        "models_path = os.path.join(base_dir, 'BSc_Project', 'models')\n",
        "\n",
        "checkpoint = keras.callbacks.ModelCheckpoint(\n",
        "    os.path.join(models_path, 'cnn_lstm_model.h5'),\n",
        "    monitor='val_loss',\n",
        "    verbose=1,\n",
        "    save_best_only=True,\n",
        "    mode='auto',\n",
        "    save_weights_only=False,\n",
        "    period=1)\n"
      ],
      "metadata": {
        "colab": {
          "base_uri": "https://localhost:8080/"
        },
        "id": "8_dcOmDy-JAb",
        "outputId": "a95f908f-3b0f-4b60-c6f3-721c6bc2e5d0"
      },
      "execution_count": 12,
      "outputs": [
        {
          "output_type": "stream",
          "name": "stderr",
          "text": [
            "WARNING:tensorflow:`period` argument is deprecated. Please use `save_freq` to specify the frequency in number of batches seen.\n"
          ]
        }
      ]
    },
    {
      "cell_type": "code",
      "source": [
        "model = Sequential()\n",
        "       \n",
        "model.add(TimeDistributed(Conv2D(32, (3, 3), padding='same',activation = 'relu'), input_shape = (12, 224, 224, 3)))\n",
        "model.add(TimeDistributed(MaxPooling2D((2, 2), strides=(2, 2)))) \n",
        "model.add(TimeDistributed(Conv2D(64, (3, 3), padding='same',activation = 'relu')))\n",
        "model.add(TimeDistributed(MaxPooling2D((2, 2), strides=(2, 2))))\n",
        "model.add(TimeDistributed(Conv2D(128, (3, 3), padding='same',activation = 'relu')))\n",
        "model.add(TimeDistributed(MaxPooling2D((2, 2), strides=(2, 2))))                \n",
        "model.add(TimeDistributed(Flatten()))\n",
        "                                  \n",
        "model.add(LSTM(64))\n",
        "model.add(Dense(512, activation = \"relu\"))               \n",
        "model.add(Dense(2, activation = \"softmax\"))\n",
        "\n",
        "model.summary()\n",
        "\n",
        "optimizer = keras.optimizers.Adam(learning_rate=0.00009)\n",
        "model.compile(loss = 'sparse_categorical_crossentropy', optimizer=optimizer, metrics=[\"accuracy\"])\n",
        "\n",
        "model_history = model.fit(X_train, y_train, epochs=60, batch_size=8 ,validation_split=0.2, callbacks = [checkpoint])"
      ],
      "metadata": {
        "colab": {
          "base_uri": "https://localhost:8080/"
        },
        "id": "1m5lTSckvMND",
        "outputId": "9ff42e7b-ee47-40c6-cb42-bf08bfe87955"
      },
      "execution_count": 13,
      "outputs": [
        {
          "output_type": "stream",
          "name": "stdout",
          "text": [
            "Model: \"sequential\"\n",
            "_________________________________________________________________\n",
            " Layer (type)                Output Shape              Param #   \n",
            "=================================================================\n",
            " time_distributed (TimeDistr  (None, 12, 224, 224, 32)  896      \n",
            " ibuted)                                                         \n",
            "                                                                 \n",
            " time_distributed_1 (TimeDis  (None, 12, 112, 112, 32)  0        \n",
            " tributed)                                                       \n",
            "                                                                 \n",
            " time_distributed_2 (TimeDis  (None, 12, 112, 112, 64)  18496    \n",
            " tributed)                                                       \n",
            "                                                                 \n",
            " time_distributed_3 (TimeDis  (None, 12, 56, 56, 64)   0         \n",
            " tributed)                                                       \n",
            "                                                                 \n",
            " time_distributed_4 (TimeDis  (None, 12, 56, 56, 128)  73856     \n",
            " tributed)                                                       \n",
            "                                                                 \n",
            " time_distributed_5 (TimeDis  (None, 12, 28, 28, 128)  0         \n",
            " tributed)                                                       \n",
            "                                                                 \n",
            " time_distributed_6 (TimeDis  (None, 12, 100352)       0         \n",
            " tributed)                                                       \n",
            "                                                                 \n",
            " lstm (LSTM)                 (None, 64)                25706752  \n",
            "                                                                 \n",
            " dense (Dense)               (None, 512)               33280     \n",
            "                                                                 \n",
            " dense_1 (Dense)             (None, 2)                 1026      \n",
            "                                                                 \n",
            "=================================================================\n",
            "Total params: 25,834,306\n",
            "Trainable params: 25,834,306\n",
            "Non-trainable params: 0\n",
            "_________________________________________________________________\n",
            "Epoch 1/60\n",
            "7/7 [==============================] - ETA: 0s - loss: 0.7160 - accuracy: 0.4400\n",
            "Epoch 1: val_loss improved from inf to 0.69038, saving model to /content/drive/MyDrive/BSc_Project/models/cnn_lstm_model.h5\n",
            "7/7 [==============================] - 20s 1s/step - loss: 0.7160 - accuracy: 0.4400 - val_loss: 0.6904 - val_accuracy: 0.5385\n",
            "Epoch 2/60\n",
            "7/7 [==============================] - ETA: 0s - loss: 0.6941 - accuracy: 0.4800\n",
            "Epoch 2: val_loss did not improve from 0.69038\n",
            "7/7 [==============================] - 2s 219ms/step - loss: 0.6941 - accuracy: 0.4800 - val_loss: 0.6915 - val_accuracy: 0.5385\n",
            "Epoch 3/60\n",
            "7/7 [==============================] - ETA: 0s - loss: 0.6864 - accuracy: 0.5600\n",
            "Epoch 3: val_loss improved from 0.69038 to 0.68935, saving model to /content/drive/MyDrive/BSc_Project/models/cnn_lstm_model.h5\n",
            "7/7 [==============================] - 2s 376ms/step - loss: 0.6864 - accuracy: 0.5600 - val_loss: 0.6893 - val_accuracy: 0.5385\n",
            "Epoch 4/60\n",
            "7/7 [==============================] - ETA: 0s - loss: 0.6834 - accuracy: 0.5600\n",
            "Epoch 4: val_loss did not improve from 0.68935\n",
            "7/7 [==============================] - 2s 219ms/step - loss: 0.6834 - accuracy: 0.5600 - val_loss: 0.6910 - val_accuracy: 0.5385\n",
            "Epoch 5/60\n",
            "7/7 [==============================] - ETA: 0s - loss: 0.6847 - accuracy: 0.5600\n",
            "Epoch 5: val_loss did not improve from 0.68935\n",
            "7/7 [==============================] - 2s 224ms/step - loss: 0.6847 - accuracy: 0.5600 - val_loss: 0.6909 - val_accuracy: 0.5385\n",
            "Epoch 6/60\n",
            "7/7 [==============================] - ETA: 0s - loss: 0.6844 - accuracy: 0.5600\n",
            "Epoch 6: val_loss improved from 0.68935 to 0.68800, saving model to /content/drive/MyDrive/BSc_Project/models/cnn_lstm_model.h5\n",
            "7/7 [==============================] - 3s 382ms/step - loss: 0.6844 - accuracy: 0.5600 - val_loss: 0.6880 - val_accuracy: 0.5385\n",
            "Epoch 7/60\n",
            "7/7 [==============================] - ETA: 0s - loss: 0.6809 - accuracy: 0.5600\n",
            "Epoch 7: val_loss did not improve from 0.68800\n",
            "7/7 [==============================] - 2s 217ms/step - loss: 0.6809 - accuracy: 0.5600 - val_loss: 0.6898 - val_accuracy: 0.5385\n",
            "Epoch 8/60\n",
            "7/7 [==============================] - ETA: 0s - loss: 0.6806 - accuracy: 0.5600\n",
            "Epoch 8: val_loss did not improve from 0.68800\n",
            "7/7 [==============================] - 2s 218ms/step - loss: 0.6806 - accuracy: 0.5600 - val_loss: 0.6945 - val_accuracy: 0.5385\n",
            "Epoch 9/60\n",
            "7/7 [==============================] - ETA: 0s - loss: 0.6818 - accuracy: 0.5600\n",
            "Epoch 9: val_loss improved from 0.68800 to 0.68371, saving model to /content/drive/MyDrive/BSc_Project/models/cnn_lstm_model.h5\n",
            "7/7 [==============================] - 3s 438ms/step - loss: 0.6818 - accuracy: 0.5600 - val_loss: 0.6837 - val_accuracy: 0.5385\n",
            "Epoch 10/60\n",
            "7/7 [==============================] - ETA: 0s - loss: 0.6744 - accuracy: 0.5600\n",
            "Epoch 10: val_loss improved from 0.68371 to 0.66511, saving model to /content/drive/MyDrive/BSc_Project/models/cnn_lstm_model.h5\n",
            "7/7 [==============================] - 4s 553ms/step - loss: 0.6744 - accuracy: 0.5600 - val_loss: 0.6651 - val_accuracy: 0.5385\n",
            "Epoch 11/60\n",
            "7/7 [==============================] - ETA: 0s - loss: 0.6887 - accuracy: 0.5600\n",
            "Epoch 11: val_loss did not improve from 0.66511\n",
            "7/7 [==============================] - 2s 216ms/step - loss: 0.6887 - accuracy: 0.5600 - val_loss: 0.6816 - val_accuracy: 0.5385\n",
            "Epoch 12/60\n",
            "7/7 [==============================] - ETA: 0s - loss: 0.6479 - accuracy: 0.5600\n",
            "Epoch 12: val_loss did not improve from 0.66511\n",
            "7/7 [==============================] - 2s 216ms/step - loss: 0.6479 - accuracy: 0.5600 - val_loss: 0.6658 - val_accuracy: 0.6154\n",
            "Epoch 13/60\n",
            "7/7 [==============================] - ETA: 0s - loss: 0.6663 - accuracy: 0.7200\n",
            "Epoch 13: val_loss improved from 0.66511 to 0.65529, saving model to /content/drive/MyDrive/BSc_Project/models/cnn_lstm_model.h5\n",
            "7/7 [==============================] - 3s 403ms/step - loss: 0.6663 - accuracy: 0.7200 - val_loss: 0.6553 - val_accuracy: 0.6154\n",
            "Epoch 14/60\n",
            "7/7 [==============================] - ETA: 0s - loss: 0.6400 - accuracy: 0.7000\n",
            "Epoch 14: val_loss improved from 0.65529 to 0.64081, saving model to /content/drive/MyDrive/BSc_Project/models/cnn_lstm_model.h5\n",
            "7/7 [==============================] - 3s 406ms/step - loss: 0.6400 - accuracy: 0.7000 - val_loss: 0.6408 - val_accuracy: 0.5385\n",
            "Epoch 15/60\n",
            "7/7 [==============================] - ETA: 0s - loss: 0.6224 - accuracy: 0.7000\n",
            "Epoch 15: val_loss did not improve from 0.64081\n",
            "7/7 [==============================] - 2s 218ms/step - loss: 0.6224 - accuracy: 0.7000 - val_loss: 0.6465 - val_accuracy: 0.5385\n",
            "Epoch 16/60\n",
            "7/7 [==============================] - ETA: 0s - loss: 0.5785 - accuracy: 0.6800\n",
            "Epoch 16: val_loss improved from 0.64081 to 0.62105, saving model to /content/drive/MyDrive/BSc_Project/models/cnn_lstm_model.h5\n",
            "7/7 [==============================] - 3s 384ms/step - loss: 0.5785 - accuracy: 0.6800 - val_loss: 0.6210 - val_accuracy: 0.5385\n",
            "Epoch 17/60\n",
            "7/7 [==============================] - ETA: 0s - loss: 0.5818 - accuracy: 0.6600\n",
            "Epoch 17: val_loss did not improve from 0.62105\n",
            "7/7 [==============================] - 2s 219ms/step - loss: 0.5818 - accuracy: 0.6600 - val_loss: 0.7209 - val_accuracy: 0.5385\n",
            "Epoch 18/60\n",
            "7/7 [==============================] - ETA: 0s - loss: 0.6287 - accuracy: 0.6200\n",
            "Epoch 18: val_loss improved from 0.62105 to 0.59498, saving model to /content/drive/MyDrive/BSc_Project/models/cnn_lstm_model.h5\n",
            "7/7 [==============================] - 3s 391ms/step - loss: 0.6287 - accuracy: 0.6200 - val_loss: 0.5950 - val_accuracy: 0.6923\n",
            "Epoch 19/60\n",
            "7/7 [==============================] - ETA: 0s - loss: 0.5362 - accuracy: 0.8400\n",
            "Epoch 19: val_loss did not improve from 0.59498\n",
            "7/7 [==============================] - 2s 220ms/step - loss: 0.5362 - accuracy: 0.8400 - val_loss: 0.6316 - val_accuracy: 0.6923\n",
            "Epoch 20/60\n",
            "7/7 [==============================] - ETA: 0s - loss: 0.5040 - accuracy: 0.7600\n",
            "Epoch 20: val_loss did not improve from 0.59498\n",
            "7/7 [==============================] - 2s 218ms/step - loss: 0.5040 - accuracy: 0.7600 - val_loss: 0.6760 - val_accuracy: 0.6923\n",
            "Epoch 21/60\n",
            "7/7 [==============================] - ETA: 0s - loss: 0.5762 - accuracy: 0.6800\n",
            "Epoch 21: val_loss did not improve from 0.59498\n",
            "7/7 [==============================] - 2s 218ms/step - loss: 0.5762 - accuracy: 0.6800 - val_loss: 0.5962 - val_accuracy: 0.6923\n",
            "Epoch 22/60\n",
            "7/7 [==============================] - ETA: 0s - loss: 0.5287 - accuracy: 0.8000\n",
            "Epoch 22: val_loss improved from 0.59498 to 0.55005, saving model to /content/drive/MyDrive/BSc_Project/models/cnn_lstm_model.h5\n",
            "7/7 [==============================] - 2s 380ms/step - loss: 0.5287 - accuracy: 0.8000 - val_loss: 0.5501 - val_accuracy: 0.8462\n",
            "Epoch 23/60\n",
            "7/7 [==============================] - ETA: 0s - loss: 0.4328 - accuracy: 0.8400\n",
            "Epoch 23: val_loss did not improve from 0.55005\n",
            "7/7 [==============================] - 2s 221ms/step - loss: 0.4328 - accuracy: 0.8400 - val_loss: 0.6910 - val_accuracy: 0.6923\n",
            "Epoch 24/60\n",
            "7/7 [==============================] - ETA: 0s - loss: 0.4256 - accuracy: 0.8200\n",
            "Epoch 24: val_loss did not improve from 0.55005\n",
            "7/7 [==============================] - 2s 220ms/step - loss: 0.4256 - accuracy: 0.8200 - val_loss: 0.6521 - val_accuracy: 0.5385\n",
            "Epoch 25/60\n",
            "7/7 [==============================] - ETA: 0s - loss: 0.3950 - accuracy: 0.8000\n",
            "Epoch 25: val_loss did not improve from 0.55005\n",
            "7/7 [==============================] - 2s 219ms/step - loss: 0.3950 - accuracy: 0.8000 - val_loss: 0.6629 - val_accuracy: 0.6923\n",
            "Epoch 26/60\n",
            "7/7 [==============================] - ETA: 0s - loss: 0.3739 - accuracy: 0.8600\n",
            "Epoch 26: val_loss improved from 0.55005 to 0.52623, saving model to /content/drive/MyDrive/BSc_Project/models/cnn_lstm_model.h5\n",
            "7/7 [==============================] - 3s 405ms/step - loss: 0.3739 - accuracy: 0.8600 - val_loss: 0.5262 - val_accuracy: 0.7692\n",
            "Epoch 27/60\n",
            "7/7 [==============================] - ETA: 0s - loss: 0.3825 - accuracy: 0.8200\n",
            "Epoch 27: val_loss improved from 0.52623 to 0.50616, saving model to /content/drive/MyDrive/BSc_Project/models/cnn_lstm_model.h5\n",
            "7/7 [==============================] - 3s 410ms/step - loss: 0.3825 - accuracy: 0.8200 - val_loss: 0.5062 - val_accuracy: 0.8462\n",
            "Epoch 28/60\n",
            "7/7 [==============================] - ETA: 0s - loss: 0.3007 - accuracy: 0.8600\n",
            "Epoch 28: val_loss did not improve from 0.50616\n",
            "7/7 [==============================] - 2s 219ms/step - loss: 0.3007 - accuracy: 0.8600 - val_loss: 0.5182 - val_accuracy: 0.6923\n",
            "Epoch 29/60\n",
            "7/7 [==============================] - ETA: 0s - loss: 0.2719 - accuracy: 0.9000\n",
            "Epoch 29: val_loss did not improve from 0.50616\n",
            "7/7 [==============================] - 2s 219ms/step - loss: 0.2719 - accuracy: 0.9000 - val_loss: 0.6138 - val_accuracy: 0.6923\n",
            "Epoch 30/60\n",
            "7/7 [==============================] - ETA: 0s - loss: 0.2955 - accuracy: 0.8800\n",
            "Epoch 30: val_loss did not improve from 0.50616\n",
            "7/7 [==============================] - 2s 220ms/step - loss: 0.2955 - accuracy: 0.8800 - val_loss: 0.5210 - val_accuracy: 0.8462\n",
            "Epoch 31/60\n",
            "7/7 [==============================] - ETA: 0s - loss: 0.3574 - accuracy: 0.8200\n",
            "Epoch 31: val_loss did not improve from 0.50616\n",
            "7/7 [==============================] - 2s 219ms/step - loss: 0.3574 - accuracy: 0.8200 - val_loss: 0.5370 - val_accuracy: 0.7692\n",
            "Epoch 32/60\n",
            "7/7 [==============================] - ETA: 0s - loss: 0.2537 - accuracy: 0.9200\n",
            "Epoch 32: val_loss did not improve from 0.50616\n",
            "7/7 [==============================] - 2s 228ms/step - loss: 0.2537 - accuracy: 0.9200 - val_loss: 0.5408 - val_accuracy: 0.8462\n",
            "Epoch 33/60\n",
            "7/7 [==============================] - ETA: 0s - loss: 0.2339 - accuracy: 0.8800\n",
            "Epoch 33: val_loss did not improve from 0.50616\n",
            "7/7 [==============================] - 2s 232ms/step - loss: 0.2339 - accuracy: 0.8800 - val_loss: 0.6039 - val_accuracy: 0.7692\n",
            "Epoch 34/60\n",
            "7/7 [==============================] - ETA: 0s - loss: 0.2352 - accuracy: 0.9200\n",
            "Epoch 34: val_loss improved from 0.50616 to 0.46353, saving model to /content/drive/MyDrive/BSc_Project/models/cnn_lstm_model.h5\n",
            "7/7 [==============================] - 4s 577ms/step - loss: 0.2352 - accuracy: 0.9200 - val_loss: 0.4635 - val_accuracy: 0.8462\n",
            "Epoch 35/60\n",
            "7/7 [==============================] - ETA: 0s - loss: 0.1782 - accuracy: 0.9200\n",
            "Epoch 35: val_loss did not improve from 0.46353\n",
            "7/7 [==============================] - 2s 224ms/step - loss: 0.1782 - accuracy: 0.9200 - val_loss: 0.6708 - val_accuracy: 0.6923\n",
            "Epoch 36/60\n",
            "7/7 [==============================] - ETA: 0s - loss: 0.2432 - accuracy: 0.9200\n",
            "Epoch 36: val_loss did not improve from 0.46353\n",
            "7/7 [==============================] - 2s 221ms/step - loss: 0.2432 - accuracy: 0.9200 - val_loss: 0.6337 - val_accuracy: 0.6154\n",
            "Epoch 37/60\n",
            "7/7 [==============================] - ETA: 0s - loss: 0.2398 - accuracy: 0.8600\n",
            "Epoch 37: val_loss improved from 0.46353 to 0.37692, saving model to /content/drive/MyDrive/BSc_Project/models/cnn_lstm_model.h5\n",
            "7/7 [==============================] - 2s 380ms/step - loss: 0.2398 - accuracy: 0.8600 - val_loss: 0.3769 - val_accuracy: 0.8462\n",
            "Epoch 38/60\n",
            "7/7 [==============================] - ETA: 0s - loss: 0.2807 - accuracy: 0.9000\n",
            "Epoch 38: val_loss improved from 0.37692 to 0.34642, saving model to /content/drive/MyDrive/BSc_Project/models/cnn_lstm_model.h5\n",
            "7/7 [==============================] - 3s 397ms/step - loss: 0.2807 - accuracy: 0.9000 - val_loss: 0.3464 - val_accuracy: 0.7692\n",
            "Epoch 39/60\n",
            "7/7 [==============================] - ETA: 0s - loss: 0.2027 - accuracy: 0.9600\n",
            "Epoch 39: val_loss did not improve from 0.34642\n",
            "7/7 [==============================] - 2s 223ms/step - loss: 0.2027 - accuracy: 0.9600 - val_loss: 0.4326 - val_accuracy: 0.7692\n",
            "Epoch 40/60\n",
            "7/7 [==============================] - ETA: 0s - loss: 0.2597 - accuracy: 0.8800\n",
            "Epoch 40: val_loss did not improve from 0.34642\n",
            "7/7 [==============================] - 2s 224ms/step - loss: 0.2597 - accuracy: 0.8800 - val_loss: 0.4639 - val_accuracy: 0.7692\n",
            "Epoch 41/60\n",
            "7/7 [==============================] - ETA: 0s - loss: 0.1960 - accuracy: 0.9400\n",
            "Epoch 41: val_loss did not improve from 0.34642\n",
            "7/7 [==============================] - 2s 223ms/step - loss: 0.1960 - accuracy: 0.9400 - val_loss: 0.5100 - val_accuracy: 0.7692\n",
            "Epoch 42/60\n",
            "7/7 [==============================] - ETA: 0s - loss: 0.1636 - accuracy: 0.9400\n",
            "Epoch 42: val_loss did not improve from 0.34642\n",
            "7/7 [==============================] - 2s 228ms/step - loss: 0.1636 - accuracy: 0.9400 - val_loss: 0.4869 - val_accuracy: 0.8462\n",
            "Epoch 43/60\n",
            "7/7 [==============================] - ETA: 0s - loss: 0.1673 - accuracy: 0.8800\n",
            "Epoch 43: val_loss did not improve from 0.34642\n",
            "7/7 [==============================] - 2s 227ms/step - loss: 0.1673 - accuracy: 0.8800 - val_loss: 0.5620 - val_accuracy: 0.8462\n",
            "Epoch 44/60\n",
            "7/7 [==============================] - ETA: 0s - loss: 0.2165 - accuracy: 0.9000\n",
            "Epoch 44: val_loss did not improve from 0.34642\n",
            "7/7 [==============================] - 2s 234ms/step - loss: 0.2165 - accuracy: 0.9000 - val_loss: 0.5352 - val_accuracy: 0.6923\n",
            "Epoch 45/60\n",
            "7/7 [==============================] - ETA: 0s - loss: 0.2147 - accuracy: 0.9400\n",
            "Epoch 45: val_loss did not improve from 0.34642\n",
            "7/7 [==============================] - 2s 225ms/step - loss: 0.2147 - accuracy: 0.9400 - val_loss: 0.3992 - val_accuracy: 0.9231\n",
            "Epoch 46/60\n",
            "7/7 [==============================] - ETA: 0s - loss: 0.1097 - accuracy: 0.9800\n",
            "Epoch 46: val_loss did not improve from 0.34642\n",
            "7/7 [==============================] - 2s 224ms/step - loss: 0.1097 - accuracy: 0.9800 - val_loss: 0.5888 - val_accuracy: 0.7692\n",
            "Epoch 47/60\n",
            "7/7 [==============================] - ETA: 0s - loss: 0.1099 - accuracy: 0.9800\n",
            "Epoch 47: val_loss did not improve from 0.34642\n",
            "7/7 [==============================] - 2s 223ms/step - loss: 0.1099 - accuracy: 0.9800 - val_loss: 0.7258 - val_accuracy: 0.6923\n",
            "Epoch 48/60\n",
            "7/7 [==============================] - ETA: 0s - loss: 0.1926 - accuracy: 0.9400\n",
            "Epoch 48: val_loss did not improve from 0.34642\n",
            "7/7 [==============================] - 2s 224ms/step - loss: 0.1926 - accuracy: 0.9400 - val_loss: 0.5663 - val_accuracy: 0.7692\n",
            "Epoch 49/60\n",
            "7/7 [==============================] - ETA: 0s - loss: 0.1193 - accuracy: 0.9600\n",
            "Epoch 49: val_loss did not improve from 0.34642\n",
            "7/7 [==============================] - 2s 223ms/step - loss: 0.1193 - accuracy: 0.9600 - val_loss: 0.5430 - val_accuracy: 0.7692\n",
            "Epoch 50/60\n",
            "7/7 [==============================] - ETA: 0s - loss: 0.1001 - accuracy: 0.9400\n",
            "Epoch 50: val_loss did not improve from 0.34642\n",
            "7/7 [==============================] - 2s 224ms/step - loss: 0.1001 - accuracy: 0.9400 - val_loss: 0.9824 - val_accuracy: 0.6154\n",
            "Epoch 51/60\n",
            "7/7 [==============================] - ETA: 0s - loss: 0.2729 - accuracy: 0.8800\n",
            "Epoch 51: val_loss did not improve from 0.34642\n",
            "7/7 [==============================] - 2s 224ms/step - loss: 0.2729 - accuracy: 0.8800 - val_loss: 0.7299 - val_accuracy: 0.6923\n",
            "Epoch 52/60\n",
            "7/7 [==============================] - ETA: 0s - loss: 0.3217 - accuracy: 0.8600\n",
            "Epoch 52: val_loss did not improve from 0.34642\n",
            "7/7 [==============================] - 2s 223ms/step - loss: 0.3217 - accuracy: 0.8600 - val_loss: 0.3852 - val_accuracy: 0.9231\n",
            "Epoch 53/60\n",
            "7/7 [==============================] - ETA: 0s - loss: 0.1878 - accuracy: 0.9400\n",
            "Epoch 53: val_loss did not improve from 0.34642\n",
            "7/7 [==============================] - 2s 227ms/step - loss: 0.1878 - accuracy: 0.9400 - val_loss: 0.5130 - val_accuracy: 0.7692\n",
            "Epoch 54/60\n",
            "7/7 [==============================] - ETA: 0s - loss: 0.1451 - accuracy: 0.9400\n",
            "Epoch 54: val_loss did not improve from 0.34642\n",
            "7/7 [==============================] - 2s 223ms/step - loss: 0.1451 - accuracy: 0.9400 - val_loss: 0.4827 - val_accuracy: 0.8462\n",
            "Epoch 55/60\n",
            "7/7 [==============================] - ETA: 0s - loss: 0.1091 - accuracy: 0.9600\n",
            "Epoch 55: val_loss did not improve from 0.34642\n",
            "7/7 [==============================] - 2s 222ms/step - loss: 0.1091 - accuracy: 0.9600 - val_loss: 0.4694 - val_accuracy: 0.8462\n",
            "Epoch 56/60\n",
            "7/7 [==============================] - ETA: 0s - loss: 0.0657 - accuracy: 1.0000\n",
            "Epoch 56: val_loss did not improve from 0.34642\n",
            "7/7 [==============================] - 2s 223ms/step - loss: 0.0657 - accuracy: 1.0000 - val_loss: 0.5621 - val_accuracy: 0.8462\n",
            "Epoch 57/60\n",
            "7/7 [==============================] - ETA: 0s - loss: 0.0531 - accuracy: 1.0000\n",
            "Epoch 57: val_loss did not improve from 0.34642\n",
            "7/7 [==============================] - 2s 224ms/step - loss: 0.0531 - accuracy: 1.0000 - val_loss: 0.4383 - val_accuracy: 0.8462\n",
            "Epoch 58/60\n",
            "7/7 [==============================] - ETA: 0s - loss: 0.0567 - accuracy: 0.9800\n",
            "Epoch 58: val_loss did not improve from 0.34642\n",
            "7/7 [==============================] - 2s 225ms/step - loss: 0.0567 - accuracy: 0.9800 - val_loss: 0.5804 - val_accuracy: 0.7692\n",
            "Epoch 59/60\n",
            "7/7 [==============================] - ETA: 0s - loss: 0.0549 - accuracy: 0.9800\n",
            "Epoch 59: val_loss did not improve from 0.34642\n",
            "7/7 [==============================] - 2s 225ms/step - loss: 0.0549 - accuracy: 0.9800 - val_loss: 0.4527 - val_accuracy: 0.8462\n",
            "Epoch 60/60\n",
            "7/7 [==============================] - ETA: 0s - loss: 0.0868 - accuracy: 0.9800\n",
            "Epoch 60: val_loss did not improve from 0.34642\n",
            "7/7 [==============================] - 2s 222ms/step - loss: 0.0868 - accuracy: 0.9800 - val_loss: 0.4887 - val_accuracy: 0.8462\n"
          ]
        }
      ]
    },
    {
      "cell_type": "code",
      "source": [
        "loss, acc = model.evaluate(X_test, y_test, batch_size= 4)\n",
        "print(f\"model's accuracy: {round((acc * 100), 2)}%\")"
      ],
      "metadata": {
        "colab": {
          "base_uri": "https://localhost:8080/"
        },
        "id": "ubKcRBBcNED9",
        "outputId": "a84e9c69-6ee5-4f06-b68c-dfaefd396ed2"
      },
      "execution_count": 14,
      "outputs": [
        {
          "output_type": "stream",
          "name": "stdout",
          "text": [
            "4/4 [==============================] - 1s 42ms/step - loss: 0.5409 - accuracy: 0.8125\n",
            "model's accuracy: 81.25%\n"
          ]
        }
      ]
    },
    {
      "cell_type": "code",
      "source": [
        "def predict(model):\n",
        "  return np.argmax(model.predict([X_test]), axis=-1)\n",
        "\n",
        "print(f'Predictions: {predict(model)},\\nTrue label:  {y_test}')"
      ],
      "metadata": {
        "colab": {
          "base_uri": "https://localhost:8080/"
        },
        "id": "by0Z7MUgAZ0S",
        "outputId": "f7a14898-3035-4bb9-f625-fe897ddebca8"
      },
      "execution_count": 23,
      "outputs": [
        {
          "output_type": "stream",
          "name": "stdout",
          "text": [
            "1/1 [==============================] - 0s 196ms/step\n",
            "Predictions: [0 0 0 0 1 1 1 1 1 0 0 1 1 1 0 0],\n",
            "True label:  [1 1 0 0 1 1 1 1 1 0 0 1 1 0 0 0]\n"
          ]
        }
      ]
    }
  ]
}