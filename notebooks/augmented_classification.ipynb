{
  "cells": [
    {
      "cell_type": "markdown",
      "metadata": {
        "id": "view-in-github",
        "colab_type": "text"
      },
      "source": [
        "<a href=\"https://colab.research.google.com/github/mehrshad-sdtn/BSc-Thesis-Project/blob/master/notebooks/augmented_classification.ipynb\" target=\"_parent\"><img src=\"https://colab.research.google.com/assets/colab-badge.svg\" alt=\"Open In Colab\"/></a>"
      ]
    },
    {
      "cell_type": "code",
      "execution_count": null,
      "metadata": {
        "id": "RtQaGf9xK5Gl"
      },
      "outputs": [],
      "source": [
        "import os\n",
        "import cv2\n",
        "import glob\n",
        "import pathlib\n",
        "import PIL, PIL.Image\n",
        "import numpy as np\n",
        "import tensorflow as tf\n",
        "from tensorflow import keras\n",
        "from keras import layers\n",
        "import matplotlib.pyplot as plt\n",
        "from keras import backend as K"
      ]
    },
    {
      "cell_type": "code",
      "execution_count": null,
      "metadata": {
        "id": "FkXd94xGNvHS"
      },
      "outputs": [],
      "source": [
        "base_dir = '/content/drive/MyDrive'\n",
        "data_dir = os.path.join(base_dir, 'BSc_Project', 'out')\n",
        "a_dataset = os.path.join(data_dir, 'A')\n",
        "models_path = os.path.join(base_dir, 'BSc_Project', 'models')"
      ]
    },
    {
      "cell_type": "code",
      "execution_count": null,
      "metadata": {
        "id": "WWZh9_Qy0sgY"
      },
      "outputs": [],
      "source": [
        "batch_size = 128\n",
        "img_height = 224\n",
        "img_width = 224"
      ]
    },
    {
      "cell_type": "code",
      "execution_count": null,
      "metadata": {
        "id": "eXWjCTVZyCAO"
      },
      "outputs": [],
      "source": [
        "def load_image(filepath, dims):\n",
        "   image = cv2.cvtColor(\n",
        "      cv2.imread(filepath), cv2.COLOR_BGR2RGB)\n",
        "   image = cv2.resize(image, dims)\n",
        "   image = image.astype('float32') / 255.0\n",
        "   return image\n",
        "\n",
        "\n",
        "def image_arrays_from_directory(directory):\n",
        "  arrays = []\n",
        "  counter = 0\n",
        "  for i, cat in enumerate(os.listdir(directory)):\n",
        "    path = os.path.join(directory, cat)\n",
        "    for image in os.listdir(path):\n",
        "      counter += 1\n",
        "      image = load_image(os.path.join(path, image), dims=(img_height, img_width))\n",
        "      arrays.append((image, 1 - i))\n",
        "  print(f\"{counter} images were read\")\n",
        "  return arrays\n",
        "\n",
        "\n",
        "def train_validation_split(data_array, ratio):\n",
        "  length = int(ratio * len(data_array))\n",
        "  return data_array[length:], data_array[:length]"
      ]
    },
    {
      "cell_type": "code",
      "execution_count": null,
      "metadata": {
        "colab": {
          "base_uri": "https://localhost:8080/"
        },
        "id": "pS5dSKgs3Crg",
        "outputId": "3e6c596c-53d7-4fce-c306-29763198983c"
      },
      "outputs": [
        {
          "name": "stdout",
          "output_type": "stream",
          "text": [
            "948 images were read\n"
          ]
        },
        {
          "data": {
            "text/plain": [
              "(array([[[0.12156863, 0.5764706 , 0.54509807],\n",
              "         [0.12156863, 0.5764706 , 0.54509807],\n",
              "         [0.12156863, 0.5764706 , 0.54509807],\n",
              "         ...,\n",
              "         [0.12156863, 0.5764706 , 0.54509807],\n",
              "         [0.12156863, 0.5764706 , 0.54509807],\n",
              "         [0.12156863, 0.5764706 , 0.54509807]],\n",
              " \n",
              "        [[0.13333334, 0.5372549 , 0.5529412 ],\n",
              "         [0.13333334, 0.5372549 , 0.5529412 ],\n",
              "         [0.13333334, 0.5372549 , 0.5529412 ],\n",
              "         ...,\n",
              "         [0.11764706, 0.6156863 , 0.53333336],\n",
              "         [0.11764706, 0.6156863 , 0.53333336],\n",
              "         [0.11764706, 0.6156863 , 0.53333336]],\n",
              " \n",
              "        [[0.11764706, 0.6156863 , 0.53333336],\n",
              "         [0.11764706, 0.6156863 , 0.53333336],\n",
              "         [0.11764706, 0.6156863 , 0.53333336],\n",
              "         ...,\n",
              "         [0.1254902 , 0.5686275 , 0.54901963],\n",
              "         [0.1254902 , 0.5686275 , 0.54901963],\n",
              "         [0.1254902 , 0.5686275 , 0.54901963]],\n",
              " \n",
              "        ...,\n",
              " \n",
              "        [[0.92941177, 0.8980392 , 0.10588235],\n",
              "         [0.92941177, 0.8980392 , 0.10588235],\n",
              "         [0.92941177, 0.8980392 , 0.10588235],\n",
              "         ...,\n",
              "         [0.49411765, 0.8235294 , 0.30588236],\n",
              "         [0.49411765, 0.8235294 , 0.30588236],\n",
              "         [0.49411765, 0.8235294 , 0.30588236]],\n",
              " \n",
              "        [[0.6745098 , 0.8627451 , 0.1882353 ],\n",
              "         [0.6745098 , 0.8627451 , 0.1882353 ],\n",
              "         [0.6745098 , 0.8627451 , 0.1882353 ],\n",
              "         ...,\n",
              "         [0.6117647 , 0.8509804 , 0.23137255],\n",
              "         [0.6117647 , 0.8509804 , 0.23137255],\n",
              "         [0.6117647 , 0.8509804 , 0.23137255]],\n",
              " \n",
              "        [[0.7176471 , 0.8666667 , 0.16470589],\n",
              "         [0.7176471 , 0.8666667 , 0.16470589],\n",
              "         [0.7176471 , 0.8666667 , 0.16470589],\n",
              "         ...,\n",
              "         [0.5058824 , 0.827451  , 0.29803923],\n",
              "         [0.5058824 , 0.827451  , 0.29803923],\n",
              "         [0.5058824 , 0.827451  , 0.29803923]]], dtype=float32), 1)"
            ]
          },
          "execution_count": 5,
          "metadata": {},
          "output_type": "execute_result"
        }
      ],
      "source": [
        "dataset_images = image_arrays_from_directory(a_dataset)\n",
        "dataset_images[0]"
      ]
    },
    {
      "cell_type": "code",
      "execution_count": null,
      "metadata": {
        "id": "etlaWhms09l7"
      },
      "outputs": [],
      "source": [
        "import random\n",
        "random.seed(123)\n",
        "random.shuffle(dataset_images)\n",
        "train, validation = train_validation_split(dataset_images, ratio=0.2)"
      ]
    },
    {
      "cell_type": "code",
      "execution_count": null,
      "metadata": {
        "colab": {
          "base_uri": "https://localhost:8080/"
        },
        "id": "fHBN_V5w438y",
        "outputId": "75d40c63-8ff4-4138-a9cf-06ee53575625"
      },
      "outputs": [
        {
          "data": {
            "text/plain": [
              "(759, 189)"
            ]
          },
          "execution_count": 7,
          "metadata": {},
          "output_type": "execute_result"
        }
      ],
      "source": [
        "len(train), len(validation)"
      ]
    },
    {
      "cell_type": "code",
      "execution_count": null,
      "metadata": {
        "id": "VIzil7Aa5GEC"
      },
      "outputs": [],
      "source": [
        "def seperate_lebale(paired_data):\n",
        "  X = np.array([data for data, label in paired_data])\n",
        "  y = np.array([label for data, label in paired_data])\n",
        "  return X, y\n",
        "\n",
        "\n",
        "X_train, y_train = seperate_lebale(train)\n",
        "X_valid, y_valid = seperate_lebale(validation)"
      ]
    },
    {
      "cell_type": "code",
      "execution_count": null,
      "metadata": {
        "colab": {
          "base_uri": "https://localhost:8080/"
        },
        "id": "JgBxmhlt5p2K",
        "outputId": "07755546-b2fa-416e-d8af-2fe0abef90a1"
      },
      "outputs": [
        {
          "data": {
            "text/plain": [
              "((759, 224, 224, 3), (759,))"
            ]
          },
          "execution_count": 9,
          "metadata": {},
          "output_type": "execute_result"
        }
      ],
      "source": [
        "X_train.shape, y_train.shape"
      ]
    },
    {
      "cell_type": "markdown",
      "metadata": {
        "id": "Y1N4YZkMObNC"
      },
      "source": [
        "####**CNN classification model**\n",
        "First we train the CNN on the unaugmented dataset to obtain the baseline results for comparison to augmented data\n",
        "\n"
      ]
    },
    {
      "cell_type": "code",
      "execution_count": null,
      "metadata": {
        "colab": {
          "base_uri": "https://localhost:8080/"
        },
        "id": "gW6d-NRE571D",
        "outputId": "43a546d1-d3e8-43cd-ac77-50d9b40448cb"
      },
      "outputs": [
        {
          "name": "stdout",
          "output_type": "stream",
          "text": [
            "Model: \"sequential\"\n",
            "_________________________________________________________________\n",
            " Layer (type)                Output Shape              Param #   \n",
            "=================================================================\n",
            " conv2d (Conv2D)             (None, 224, 224, 64)      1792      \n",
            "                                                                 \n",
            " conv2d_1 (Conv2D)           (None, 224, 224, 64)      36928     \n",
            "                                                                 \n",
            " max_pooling2d (MaxPooling2D  (None, 112, 112, 64)     0         \n",
            " )                                                               \n",
            "                                                                 \n",
            " conv2d_2 (Conv2D)           (None, 112, 112, 128)     73856     \n",
            "                                                                 \n",
            " conv2d_3 (Conv2D)           (None, 112, 112, 128)     147584    \n",
            "                                                                 \n",
            " max_pooling2d_1 (MaxPooling  (None, 56, 56, 128)      0         \n",
            " 2D)                                                             \n",
            "                                                                 \n",
            " conv2d_4 (Conv2D)           (None, 56, 56, 256)       295168    \n",
            "                                                                 \n",
            " conv2d_5 (Conv2D)           (None, 56, 56, 256)       590080    \n",
            "                                                                 \n",
            " conv2d_6 (Conv2D)           (None, 56, 56, 256)       590080    \n",
            "                                                                 \n",
            " max_pooling2d_2 (MaxPooling  (None, 28, 28, 256)      0         \n",
            " 2D)                                                             \n",
            "                                                                 \n",
            " conv2d_7 (Conv2D)           (None, 28, 28, 512)       1180160   \n",
            "                                                                 \n",
            " conv2d_8 (Conv2D)           (None, 28, 28, 512)       2359808   \n",
            "                                                                 \n",
            " conv2d_9 (Conv2D)           (None, 28, 28, 512)       2359808   \n",
            "                                                                 \n",
            " max_pooling2d_3 (MaxPooling  (None, 14, 14, 512)      0         \n",
            " 2D)                                                             \n",
            "                                                                 \n",
            " conv2d_10 (Conv2D)          (None, 14, 14, 512)       2359808   \n",
            "                                                                 \n",
            " conv2d_11 (Conv2D)          (None, 14, 14, 512)       2359808   \n",
            "                                                                 \n",
            " conv2d_12 (Conv2D)          (None, 14, 14, 512)       2359808   \n",
            "                                                                 \n",
            " max_pooling2d_4 (MaxPooling  (None, 7, 7, 512)        0         \n",
            " 2D)                                                             \n",
            "                                                                 \n",
            " flatten (Flatten)           (None, 25088)             0         \n",
            "                                                                 \n",
            " dense (Dense)               (None, 4096)              102764544 \n",
            "                                                                 \n",
            " dense_1 (Dense)             (None, 4096)              16781312  \n",
            "                                                                 \n",
            " dense_2 (Dense)             (None, 2)                 8194      \n",
            "                                                                 \n",
            "=================================================================\n",
            "Total params: 134,268,738\n",
            "Trainable params: 134,268,738\n",
            "Non-trainable params: 0\n",
            "_________________________________________________________________\n"
          ]
        }
      ],
      "source": [
        "tf.random.set_seed(123)\n",
        "np.random.seed(123)\n",
        "\n",
        "num_classes = 2\n",
        "\n",
        "vgg16_model = keras.Sequential()\n",
        "vgg16_model.add(layers.Conv2D(input_shape=(224,224,3),filters=64,kernel_size=(3,3),padding=\"same\", activation=\"relu\"))\n",
        "vgg16_model.add(layers.Conv2D(filters=64,kernel_size=(3,3),padding=\"same\", activation=\"relu\"))\n",
        "vgg16_model.add(layers.MaxPool2D(pool_size=(2,2),strides=(2,2)))\n",
        "vgg16_model.add(layers.Conv2D(filters=128, kernel_size=(3,3), padding=\"same\", activation=\"relu\"))\n",
        "vgg16_model.add(layers.Conv2D(filters=128, kernel_size=(3,3), padding=\"same\", activation=\"relu\"))\n",
        "vgg16_model.add(layers.MaxPooling2D(pool_size=(2,2),strides=(2,2)))\n",
        "vgg16_model.add(layers.Conv2D(filters=256, kernel_size=(3,3), padding=\"same\", activation=\"relu\"))\n",
        "vgg16_model.add(layers.Conv2D(filters=256, kernel_size=(3,3), padding=\"same\", activation=\"relu\"))\n",
        "vgg16_model.add(layers.Conv2D(filters=256, kernel_size=(3,3), padding=\"same\", activation=\"relu\"))\n",
        "vgg16_model.add(layers.MaxPooling2D(pool_size=(2,2),strides=(2,2)))\n",
        "vgg16_model.add(layers.Conv2D(filters=512, kernel_size=(3,3), padding=\"same\", activation=\"relu\"))\n",
        "vgg16_model.add(layers.Conv2D(filters=512, kernel_size=(3,3), padding=\"same\", activation=\"relu\"))\n",
        "vgg16_model.add(layers.Conv2D(filters=512, kernel_size=(3,3), padding=\"same\", activation=\"relu\"))\n",
        "vgg16_model.add(layers.MaxPooling2D(pool_size=(2,2),strides=(2,2)))\n",
        "vgg16_model.add(layers.Conv2D(filters=512, kernel_size=(3,3), padding=\"same\", activation=\"relu\"))\n",
        "vgg16_model.add(layers.Conv2D(filters=512, kernel_size=(3,3), padding=\"same\", activation=\"relu\"))\n",
        "vgg16_model.add(layers.Conv2D(filters=512, kernel_size=(3,3), padding=\"same\", activation=\"relu\"))\n",
        "vgg16_model.add(layers.MaxPooling2D(pool_size=(2,2),strides=(2,2)))\n",
        "vgg16_model.add(layers.Flatten())\n",
        "vgg16_model.add(layers.Dense(4096,activation=\"relu\"))\n",
        "vgg16_model.add(layers.Dense(4096,activation=\"relu\"))\n",
        "vgg16_model.add(layers.Dense(num_classes, activation=\"softmax\"))\n",
        "vgg16_model.summary()\n"
      ]
    },
    {
      "cell_type": "code",
      "execution_count": null,
      "metadata": {
        "colab": {
          "base_uri": "https://localhost:8080/"
        },
        "id": "cq0LCkAA6HYz",
        "outputId": "54fe3999-570c-441c-8bec-dd091c285184"
      },
      "outputs": [
        {
          "name": "stdout",
          "output_type": "stream",
          "text": [
            "Epoch 1/70\n",
            "6/6 [==============================] - 65s 7s/step - loss: 0.6935 - accuracy: 0.5072 - val_loss: 0.6903 - val_accuracy: 0.5767\n",
            "Epoch 2/70\n",
            "6/6 [==============================] - 11s 2s/step - loss: 0.6927 - accuracy: 0.5204 - val_loss: 0.6878 - val_accuracy: 0.5767\n",
            "Epoch 3/70\n",
            "6/6 [==============================] - 11s 2s/step - loss: 0.6914 - accuracy: 0.5204 - val_loss: 0.6814 - val_accuracy: 0.5767\n",
            "Epoch 4/70\n",
            "6/6 [==============================] - 11s 2s/step - loss: 0.6864 - accuracy: 0.5204 - val_loss: 0.6635 - val_accuracy: 0.5767\n",
            "Epoch 5/70\n",
            "6/6 [==============================] - 12s 2s/step - loss: 0.7410 - accuracy: 0.5758 - val_loss: 0.7315 - val_accuracy: 0.5291\n",
            "Epoch 6/70\n",
            "6/6 [==============================] - 12s 2s/step - loss: 0.6979 - accuracy: 0.5138 - val_loss: 0.6925 - val_accuracy: 0.6667\n",
            "Epoch 7/70\n",
            "6/6 [==============================] - 12s 2s/step - loss: 0.6923 - accuracy: 0.5441 - val_loss: 0.6883 - val_accuracy: 0.5767\n",
            "Epoch 8/70\n",
            "6/6 [==============================] - 12s 2s/step - loss: 0.6921 - accuracy: 0.5204 - val_loss: 0.6858 - val_accuracy: 0.5767\n",
            "Epoch 9/70\n",
            "6/6 [==============================] - 12s 2s/step - loss: 0.6918 - accuracy: 0.5204 - val_loss: 0.6859 - val_accuracy: 0.5767\n",
            "Epoch 10/70\n",
            "6/6 [==============================] - 12s 2s/step - loss: 0.6904 - accuracy: 0.5204 - val_loss: 0.6821 - val_accuracy: 0.5767\n",
            "Epoch 11/70\n",
            "6/6 [==============================] - 12s 2s/step - loss: 0.6828 - accuracy: 0.5204 - val_loss: 0.6549 - val_accuracy: 0.6243\n",
            "Epoch 12/70\n",
            "6/6 [==============================] - 12s 2s/step - loss: 0.6168 - accuracy: 0.6482 - val_loss: 0.5376 - val_accuracy: 0.6878\n",
            "Epoch 13/70\n",
            "6/6 [==============================] - 12s 2s/step - loss: 0.4693 - accuracy: 0.7787 - val_loss: 0.4213 - val_accuracy: 0.7989\n",
            "Epoch 14/70\n",
            "6/6 [==============================] - 12s 2s/step - loss: 0.3966 - accuracy: 0.8379 - val_loss: 0.3723 - val_accuracy: 0.8307\n",
            "Epoch 15/70\n",
            "6/6 [==============================] - 12s 2s/step - loss: 0.3332 - accuracy: 0.8775 - val_loss: 0.3381 - val_accuracy: 0.8413\n",
            "Epoch 16/70\n",
            "6/6 [==============================] - 12s 2s/step - loss: 0.2868 - accuracy: 0.8867 - val_loss: 0.3427 - val_accuracy: 0.8201\n",
            "Epoch 17/70\n",
            "6/6 [==============================] - 12s 2s/step - loss: 0.2406 - accuracy: 0.9065 - val_loss: 0.2546 - val_accuracy: 0.8836\n",
            "Epoch 18/70\n",
            "6/6 [==============================] - 12s 2s/step - loss: 0.2169 - accuracy: 0.9209 - val_loss: 0.2349 - val_accuracy: 0.8836\n",
            "Epoch 19/70\n",
            "6/6 [==============================] - 12s 2s/step - loss: 0.1841 - accuracy: 0.9328 - val_loss: 0.2404 - val_accuracy: 0.8889\n",
            "Epoch 20/70\n",
            "6/6 [==============================] - 12s 2s/step - loss: 0.1803 - accuracy: 0.9315 - val_loss: 0.2900 - val_accuracy: 0.8677\n",
            "Epoch 21/70\n",
            "6/6 [==============================] - 12s 2s/step - loss: 0.1922 - accuracy: 0.9183 - val_loss: 0.3871 - val_accuracy: 0.8254\n",
            "Epoch 22/70\n",
            "6/6 [==============================] - 12s 2s/step - loss: 0.2126 - accuracy: 0.9130 - val_loss: 0.3204 - val_accuracy: 0.8466\n",
            "Epoch 23/70\n",
            "6/6 [==============================] - 12s 2s/step - loss: 0.2081 - accuracy: 0.9183 - val_loss: 0.3785 - val_accuracy: 0.8360\n",
            "Epoch 24/70\n",
            "6/6 [==============================] - 12s 2s/step - loss: 0.2165 - accuracy: 0.9183 - val_loss: 0.2278 - val_accuracy: 0.9048\n",
            "Epoch 25/70\n",
            "6/6 [==============================] - 12s 2s/step - loss: 0.1640 - accuracy: 0.9394 - val_loss: 0.2458 - val_accuracy: 0.9048\n",
            "Epoch 26/70\n",
            "6/6 [==============================] - 12s 2s/step - loss: 0.1312 - accuracy: 0.9513 - val_loss: 0.2316 - val_accuracy: 0.8942\n",
            "Epoch 27/70\n",
            "6/6 [==============================] - 12s 2s/step - loss: 0.1305 - accuracy: 0.9526 - val_loss: 0.2012 - val_accuracy: 0.9312\n",
            "Epoch 28/70\n",
            "6/6 [==============================] - 12s 2s/step - loss: 0.1034 - accuracy: 0.9578 - val_loss: 0.1409 - val_accuracy: 0.9630\n",
            "Epoch 29/70\n",
            "6/6 [==============================] - 12s 2s/step - loss: 0.0791 - accuracy: 0.9697 - val_loss: 0.1528 - val_accuracy: 0.9524\n",
            "Epoch 30/70\n",
            "6/6 [==============================] - 12s 2s/step - loss: 0.0659 - accuracy: 0.9750 - val_loss: 0.1628 - val_accuracy: 0.9365\n",
            "Epoch 31/70\n",
            "6/6 [==============================] - 12s 2s/step - loss: 0.0585 - accuracy: 0.9736 - val_loss: 0.1280 - val_accuracy: 0.9630\n",
            "Epoch 32/70\n",
            "6/6 [==============================] - 12s 2s/step - loss: 0.0474 - accuracy: 0.9829 - val_loss: 0.1656 - val_accuracy: 0.9524\n",
            "Epoch 33/70\n",
            "6/6 [==============================] - 12s 2s/step - loss: 0.0491 - accuracy: 0.9763 - val_loss: 0.2103 - val_accuracy: 0.9312\n",
            "Epoch 34/70\n",
            "6/6 [==============================] - 12s 2s/step - loss: 0.0455 - accuracy: 0.9789 - val_loss: 0.2558 - val_accuracy: 0.9259\n",
            "Epoch 35/70\n",
            "6/6 [==============================] - 12s 2s/step - loss: 0.0498 - accuracy: 0.9789 - val_loss: 0.8574 - val_accuracy: 0.8571\n",
            "Epoch 36/70\n",
            "6/6 [==============================] - 12s 2s/step - loss: 0.1604 - accuracy: 0.9513 - val_loss: 0.3944 - val_accuracy: 0.8677\n",
            "Epoch 37/70\n",
            "6/6 [==============================] - 12s 2s/step - loss: 0.1537 - accuracy: 0.9354 - val_loss: 0.2336 - val_accuracy: 0.8836\n",
            "Epoch 38/70\n",
            "6/6 [==============================] - 12s 2s/step - loss: 0.1368 - accuracy: 0.9473 - val_loss: 0.2125 - val_accuracy: 0.9365\n",
            "Epoch 39/70\n",
            "6/6 [==============================] - 12s 2s/step - loss: 0.0830 - accuracy: 0.9631 - val_loss: 0.1351 - val_accuracy: 0.9312\n",
            "Epoch 40/70\n",
            "6/6 [==============================] - 12s 2s/step - loss: 0.0594 - accuracy: 0.9816 - val_loss: 0.2265 - val_accuracy: 0.9259\n",
            "Epoch 41/70\n",
            "6/6 [==============================] - 12s 2s/step - loss: 0.0387 - accuracy: 0.9855 - val_loss: 0.1173 - val_accuracy: 0.9577\n",
            "Epoch 42/70\n",
            "6/6 [==============================] - 12s 2s/step - loss: 0.0238 - accuracy: 0.9934 - val_loss: 0.1703 - val_accuracy: 0.9577\n",
            "Epoch 43/70\n",
            "6/6 [==============================] - 12s 2s/step - loss: 0.0279 - accuracy: 0.9842 - val_loss: 0.2600 - val_accuracy: 0.9259\n",
            "Epoch 44/70\n",
            "6/6 [==============================] - 12s 2s/step - loss: 0.0592 - accuracy: 0.9763 - val_loss: 0.4327 - val_accuracy: 0.9048\n",
            "Epoch 45/70\n",
            "6/6 [==============================] - 12s 2s/step - loss: 0.0856 - accuracy: 0.9657 - val_loss: 0.4348 - val_accuracy: 0.9101\n",
            "Epoch 46/70\n",
            "6/6 [==============================] - 12s 2s/step - loss: 0.0592 - accuracy: 0.9802 - val_loss: 0.1058 - val_accuracy: 0.9735\n",
            "Epoch 47/70\n",
            "6/6 [==============================] - 12s 2s/step - loss: 0.0412 - accuracy: 0.9895 - val_loss: 0.1611 - val_accuracy: 0.9471\n",
            "Epoch 48/70\n",
            "6/6 [==============================] - 12s 2s/step - loss: 0.0274 - accuracy: 0.9908 - val_loss: 0.1097 - val_accuracy: 0.9630\n",
            "Epoch 49/70\n",
            "6/6 [==============================] - 12s 2s/step - loss: 0.0263 - accuracy: 0.9842 - val_loss: 0.1247 - val_accuracy: 0.9735\n",
            "Epoch 50/70\n",
            "6/6 [==============================] - 12s 2s/step - loss: 0.0361 - accuracy: 0.9855 - val_loss: 0.1996 - val_accuracy: 0.9418\n",
            "Epoch 51/70\n",
            "6/6 [==============================] - 12s 2s/step - loss: 0.0163 - accuracy: 0.9934 - val_loss: 0.2559 - val_accuracy: 0.9259\n",
            "Epoch 52/70\n",
            "6/6 [==============================] - 12s 2s/step - loss: 0.0206 - accuracy: 0.9895 - val_loss: 0.1195 - val_accuracy: 0.9735\n",
            "Epoch 53/70\n",
            "6/6 [==============================] - 12s 2s/step - loss: 0.0066 - accuracy: 0.9987 - val_loss: 0.2796 - val_accuracy: 0.9312\n",
            "Epoch 54/70\n",
            "6/6 [==============================] - 12s 2s/step - loss: 0.0046 - accuracy: 1.0000 - val_loss: 0.1713 - val_accuracy: 0.9735\n",
            "Epoch 55/70\n",
            "6/6 [==============================] - 12s 2s/step - loss: 0.0019 - accuracy: 1.0000 - val_loss: 0.2000 - val_accuracy: 0.9735\n",
            "Epoch 56/70\n",
            "6/6 [==============================] - 12s 2s/step - loss: 6.8945e-04 - accuracy: 1.0000 - val_loss: 0.2513 - val_accuracy: 0.9683\n",
            "Epoch 57/70\n",
            "6/6 [==============================] - 12s 2s/step - loss: 4.0082e-04 - accuracy: 1.0000 - val_loss: 0.2645 - val_accuracy: 0.9683\n",
            "Epoch 58/70\n",
            "6/6 [==============================] - 12s 2s/step - loss: 2.0165e-04 - accuracy: 1.0000 - val_loss: 0.2672 - val_accuracy: 0.9683\n",
            "Epoch 59/70\n",
            "6/6 [==============================] - 12s 2s/step - loss: 1.7414e-04 - accuracy: 1.0000 - val_loss: 0.2720 - val_accuracy: 0.9735\n",
            "Epoch 60/70\n",
            "6/6 [==============================] - 12s 2s/step - loss: 1.2967e-04 - accuracy: 1.0000 - val_loss: 0.2786 - val_accuracy: 0.9683\n",
            "Epoch 61/70\n",
            "6/6 [==============================] - 12s 2s/step - loss: 9.4586e-05 - accuracy: 1.0000 - val_loss: 0.2846 - val_accuracy: 0.9683\n",
            "Epoch 62/70\n",
            "6/6 [==============================] - 12s 2s/step - loss: 8.0910e-05 - accuracy: 1.0000 - val_loss: 0.2880 - val_accuracy: 0.9683\n",
            "Epoch 63/70\n",
            "6/6 [==============================] - 12s 2s/step - loss: 7.2912e-05 - accuracy: 1.0000 - val_loss: 0.2890 - val_accuracy: 0.9683\n",
            "Epoch 64/70\n",
            "6/6 [==============================] - 12s 2s/step - loss: 6.5426e-05 - accuracy: 1.0000 - val_loss: 0.2891 - val_accuracy: 0.9683\n",
            "Epoch 65/70\n",
            "6/6 [==============================] - 12s 2s/step - loss: 5.9137e-05 - accuracy: 1.0000 - val_loss: 0.2894 - val_accuracy: 0.9683\n",
            "Epoch 66/70\n",
            "6/6 [==============================] - 12s 2s/step - loss: 5.4305e-05 - accuracy: 1.0000 - val_loss: 0.2904 - val_accuracy: 0.9683\n",
            "Epoch 67/70\n",
            "6/6 [==============================] - 12s 2s/step - loss: 5.0384e-05 - accuracy: 1.0000 - val_loss: 0.2922 - val_accuracy: 0.9683\n",
            "Epoch 68/70\n",
            "6/6 [==============================] - 12s 2s/step - loss: 4.6975e-05 - accuracy: 1.0000 - val_loss: 0.2943 - val_accuracy: 0.9683\n",
            "Epoch 69/70\n",
            "6/6 [==============================] - 12s 2s/step - loss: 4.3981e-05 - accuracy: 1.0000 - val_loss: 0.2967 - val_accuracy: 0.9683\n",
            "Epoch 70/70\n",
            "6/6 [==============================] - 12s 2s/step - loss: 4.1341e-05 - accuracy: 1.0000 - val_loss: 0.2989 - val_accuracy: 0.9683\n"
          ]
        },
        {
          "data": {
            "text/plain": [
              "<keras.callbacks.History at 0x7f7efd5a79a0>"
            ]
          },
          "execution_count": 11,
          "metadata": {},
          "output_type": "execute_result"
        }
      ],
      "source": [
        "opt = keras.optimizers.Adam(learning_rate=0.0001)\n",
        "vgg16_model.compile(optimizer=opt, loss=tf.keras.losses.SparseCategoricalCrossentropy(), metrics=['accuracy'])\n",
        "\n",
        "vgg16_model.fit(X_train, y_train, validation_data=(X_valid, y_valid), epochs=70, batch_size=128, shuffle=False)"
      ]
    },
    {
      "cell_type": "code",
      "execution_count": null,
      "metadata": {
        "colab": {
          "base_uri": "https://localhost:8080/"
        },
        "id": "B9czeRNpNA3v",
        "outputId": "299d0570-0bd6-4132-d774-371cec6a8c62"
      },
      "outputs": [
        {
          "data": {
            "text/plain": [
              "(array([0, 1]), array([364, 395]))"
            ]
          },
          "execution_count": 12,
          "metadata": {},
          "output_type": "execute_result"
        }
      ],
      "source": [
        "np.unique(y_train, return_counts=True)"
      ]
    },
    {
      "cell_type": "markdown",
      "metadata": {
        "id": "eXfCc3Vk_zul"
      },
      "source": [
        "\n",
        "### **Classification on VAE augmented dataset**\n",
        "---\n"
      ]
    },
    {
      "cell_type": "markdown",
      "metadata": {
        "id": "1Ops3tSAAfRs"
      },
      "source": [
        "Loading the VAE model"
      ]
    },
    {
      "cell_type": "code",
      "execution_count": null,
      "metadata": {
        "id": "us2N_nxm83Vj"
      },
      "outputs": [],
      "source": [
        "class Sampling(layers.Layer):\n",
        "    \"\"\"Uses (z_mean, z_log_var) to sample z, the vector encoding a digit.\"\"\"\n",
        "\n",
        "    def call(self, inputs):\n",
        "        z_mean, z_log_var = inputs\n",
        "        batch = tf.shape(z_mean)[0]\n",
        "        dim = tf.shape(z_mean)[1]\n",
        "        epsilon = tf.keras.backend.random_normal(shape=(batch, dim))\n",
        "        return z_mean + tf.exp(0.5 * z_log_var) * epsilon"
      ]
    },
    {
      "cell_type": "code",
      "execution_count": null,
      "metadata": {
        "colab": {
          "base_uri": "https://localhost:8080/"
        },
        "id": "FSd6Enip8cxN",
        "outputId": "714bb8a6-7c80-45e7-e9d1-07e7656bfc50"
      },
      "outputs": [
        {
          "name": "stdout",
          "output_type": "stream",
          "text": [
            "Model: \"encoder\"\n",
            "__________________________________________________________________________________________________\n",
            " Layer (type)                   Output Shape         Param #     Connected to                     \n",
            "==================================================================================================\n",
            " input_1 (InputLayer)           [(None, 224, 224, 3  0           []                               \n",
            "                                )]                                                                \n",
            "                                                                                                  \n",
            " conv2d (Conv2D)                (None, 112, 112, 32  896         ['input_1[0][0]']                \n",
            "                                )                                                                 \n",
            "                                                                                                  \n",
            " conv2d_1 (Conv2D)              (None, 56, 56, 64)   18496       ['conv2d[0][0]']                 \n",
            "                                                                                                  \n",
            " conv2d_2 (Conv2D)              (None, 28, 28, 128)  73856       ['conv2d_1[0][0]']               \n",
            "                                                                                                  \n",
            " conv2d_3 (Conv2D)              (None, 14, 14, 256)  295168      ['conv2d_2[0][0]']               \n",
            "                                                                                                  \n",
            " conv2d_4 (Conv2D)              (None, 7, 7, 512)    1180160     ['conv2d_3[0][0]']               \n",
            "                                                                                                  \n",
            " flatten (Flatten)              (None, 25088)        0           ['conv2d_4[0][0]']               \n",
            "                                                                                                  \n",
            " dense (Dense)                  (None, 2048)         51382272    ['flatten[0][0]']                \n",
            "                                                                                                  \n",
            " z_mean (Dense)                 (None, 1024)         2098176     ['dense[0][0]']                  \n",
            "                                                                                                  \n",
            " z_log_var (Dense)              (None, 1024)         2098176     ['dense[0][0]']                  \n",
            "                                                                                                  \n",
            " sampling (Sampling)            (None, 1024)         0           ['z_mean[0][0]',                 \n",
            "                                                                  'z_log_var[0][0]']              \n",
            "                                                                                                  \n",
            "==================================================================================================\n",
            "Total params: 57,147,200\n",
            "Trainable params: 57,147,200\n",
            "Non-trainable params: 0\n",
            "__________________________________________________________________________________________________\n",
            "Model: \"decoder\"\n",
            "_________________________________________________________________\n",
            " Layer (type)                Output Shape              Param #   \n",
            "=================================================================\n",
            " input_2 (InputLayer)        [(None, 1024)]            0         \n",
            "                                                                 \n",
            " dense_1 (Dense)             (None, 2048)              2099200   \n",
            "                                                                 \n",
            " dense_2 (Dense)             (None, 25088)             51405312  \n",
            "                                                                 \n",
            " reshape (Reshape)           (None, 7, 7, 512)         0         \n",
            "                                                                 \n",
            " conv2d_transpose (Conv2DTra  (None, 14, 14, 256)      1179904   \n",
            " nspose)                                                         \n",
            "                                                                 \n",
            " conv2d_transpose_1 (Conv2DT  (None, 28, 28, 128)      295040    \n",
            " ranspose)                                                       \n",
            "                                                                 \n",
            " conv2d_transpose_2 (Conv2DT  (None, 56, 56, 64)       73792     \n",
            " ranspose)                                                       \n",
            "                                                                 \n",
            " conv2d_transpose_3 (Conv2DT  (None, 112, 112, 32)     18464     \n",
            " ranspose)                                                       \n",
            "                                                                 \n",
            " conv2d_transpose_4 (Conv2DT  (None, 224, 224, 3)      867       \n",
            " ranspose)                                                       \n",
            "                                                                 \n",
            "=================================================================\n",
            "Total params: 55,072,579\n",
            "Trainable params: 55,072,579\n",
            "Non-trainable params: 0\n",
            "_________________________________________________________________\n",
            "Model: \"encoder\"\n",
            "__________________________________________________________________________________________________\n",
            " Layer (type)                   Output Shape         Param #     Connected to                     \n",
            "==================================================================================================\n",
            " input_3 (InputLayer)           [(None, 224, 224, 3  0           []                               \n",
            "                                )]                                                                \n",
            "                                                                                                  \n",
            " conv2d_5 (Conv2D)              (None, 112, 112, 32  896         ['input_3[0][0]']                \n",
            "                                )                                                                 \n",
            "                                                                                                  \n",
            " conv2d_6 (Conv2D)              (None, 56, 56, 64)   18496       ['conv2d_5[0][0]']               \n",
            "                                                                                                  \n",
            " conv2d_7 (Conv2D)              (None, 28, 28, 128)  73856       ['conv2d_6[0][0]']               \n",
            "                                                                                                  \n",
            " conv2d_8 (Conv2D)              (None, 14, 14, 256)  295168      ['conv2d_7[0][0]']               \n",
            "                                                                                                  \n",
            " conv2d_9 (Conv2D)              (None, 7, 7, 512)    1180160     ['conv2d_8[0][0]']               \n",
            "                                                                                                  \n",
            " flatten_1 (Flatten)            (None, 25088)        0           ['conv2d_9[0][0]']               \n",
            "                                                                                                  \n",
            " dense_3 (Dense)                (None, 2048)         51382272    ['flatten_1[0][0]']              \n",
            "                                                                                                  \n",
            " z_mean (Dense)                 (None, 1024)         2098176     ['dense_3[0][0]']                \n",
            "                                                                                                  \n",
            " z_log_var (Dense)              (None, 1024)         2098176     ['dense_3[0][0]']                \n",
            "                                                                                                  \n",
            " sampling_1 (Sampling)          (None, 1024)         0           ['z_mean[0][0]',                 \n",
            "                                                                  'z_log_var[0][0]']              \n",
            "                                                                                                  \n",
            "==================================================================================================\n",
            "Total params: 57,147,200\n",
            "Trainable params: 57,147,200\n",
            "Non-trainable params: 0\n",
            "__________________________________________________________________________________________________\n",
            "Model: \"decoder\"\n",
            "_________________________________________________________________\n",
            " Layer (type)                Output Shape              Param #   \n",
            "=================================================================\n",
            " input_4 (InputLayer)        [(None, 1024)]            0         \n",
            "                                                                 \n",
            " dense_4 (Dense)             (None, 2048)              2099200   \n",
            "                                                                 \n",
            " dense_5 (Dense)             (None, 25088)             51405312  \n",
            "                                                                 \n",
            " reshape_1 (Reshape)         (None, 7, 7, 512)         0         \n",
            "                                                                 \n",
            " conv2d_transpose_5 (Conv2DT  (None, 14, 14, 256)      1179904   \n",
            " ranspose)                                                       \n",
            "                                                                 \n",
            " conv2d_transpose_6 (Conv2DT  (None, 28, 28, 128)      295040    \n",
            " ranspose)                                                       \n",
            "                                                                 \n",
            " conv2d_transpose_7 (Conv2DT  (None, 56, 56, 64)       73792     \n",
            " ranspose)                                                       \n",
            "                                                                 \n",
            " conv2d_transpose_8 (Conv2DT  (None, 112, 112, 32)     18464     \n",
            " ranspose)                                                       \n",
            "                                                                 \n",
            " conv2d_transpose_9 (Conv2DT  (None, 224, 224, 3)      867       \n",
            " ranspose)                                                       \n",
            "                                                                 \n",
            "=================================================================\n",
            "Total params: 55,072,579\n",
            "Trainable params: 55,072,579\n",
            "Non-trainable params: 0\n",
            "_________________________________________________________________\n"
          ]
        }
      ],
      "source": [
        "def load_autoencoder(names):\n",
        "  \"\"\"\n",
        "  names is a dictionary containing 'decoder' and 'encoder' names\n",
        "  \"\"\"\n",
        "  encoder = keras.models.load_model(os.path.join(models_path, names['encoder']), custom_objects={'Sampling':Sampling}) \n",
        "  decoder = keras.models.load_model(os.path.join(models_path, names['decoder']))\n",
        "  return encoder, decoder \n",
        "\n",
        "\n",
        "tf.random.set_seed(42)\n",
        "np.random.seed(42)\n",
        "\n",
        "latent_dim = 512\n",
        "\n",
        "tf.random.set_seed(42)\n",
        "np.random.seed(42)\n",
        "\n",
        "latent_dim = 1024\n",
        "\n",
        "\n",
        "def encoder(inputs):\n",
        "  # (224, 224, 3)\n",
        "\n",
        "  x = layers.Conv2D(32, 3, activation=\"relu\", strides=2, padding=\"same\")(inputs) \n",
        "  # (112, 112, 32)\n",
        "\n",
        "  x = layers.Conv2D(64, 3, activation=\"relu\", strides=2, padding=\"same\")(x)\n",
        "  # (56, 56, 64)\n",
        "\n",
        "  x = layers.Conv2D(128, 3, activation=\"relu\", strides=2, padding=\"same\")(x)\n",
        "  # (28, 28, 128)\n",
        "\n",
        "  x = layers.Conv2D(256, 3, activation=\"relu\", strides=2, padding=\"same\")(x)\n",
        "  # (14, 14, 256)\n",
        "\n",
        "  x = layers.Conv2D(512, 3, activation=\"relu\", strides=2, padding=\"same\")(x)\n",
        "  # (7, 7, 512)\n",
        "\n",
        "  x = layers.Flatten()(x)\n",
        "  x = layers.Dense(2048, activation=\"relu\")(x)\n",
        "\n",
        "  z_mean = layers.Dense(latent_dim, name=\"z_mean\")(x)\n",
        "  z_log_var = layers.Dense(latent_dim, name=\"z_log_var\")(x)\n",
        "  z = Sampling()([z_mean, z_log_var])\n",
        "  v_encoder = keras.Model(inputs, [z_mean, z_log_var, z], name=\"encoder\")\n",
        "  v_encoder.summary()\n",
        "  return v_encoder, z_log_var, z_mean\n",
        "\n",
        "\n",
        "def decoder():\n",
        "  latent_inputs = keras.Input(shape=(latent_dim,))\n",
        "\n",
        "  x = layers.Dense(2048, activation=\"relu\")(latent_inputs)\n",
        "  x = layers.Dense(7*7*512, activation=\"relu\")(x)\n",
        "  x = layers.Reshape((7, 7, 512))(x)\n",
        "\n",
        "  x = layers.Conv2DTranspose(256, 3, activation=\"relu\", strides=2, padding=\"same\")(x)\n",
        "  # (14, 14, 256)\n",
        "\n",
        "  x = layers.Conv2DTranspose(128, 3, activation=\"relu\", strides=2, padding=\"same\")(x)\n",
        "  # (28, 28, 128)\n",
        "\n",
        "  x = layers.Conv2DTranspose(64, 3, activation=\"relu\", strides=2, padding=\"same\")(x)\n",
        "  # (56, 56, 64)\n",
        "\n",
        "  x = layers.Conv2DTranspose(32, 3, activation=\"relu\", strides=2, padding=\"same\")(x)\n",
        "  # (112, 112, 32)\n",
        "\n",
        "  decoder_outputs = layers.Conv2DTranspose(3, 3, activation=\"sigmoid\",  strides=2, padding=\"same\")(x)\n",
        "  v_decoder = keras.Model(latent_inputs, decoder_outputs, name=\"decoder\")\n",
        "  v_decoder.summary()\n",
        "  return v_decoder\n",
        "\n",
        "\n",
        "inputs = keras.layers.Input(shape=(224, 224, 3))\n",
        "norm_encoder, norm_codings_log_var, norm_codings_mean = encoder(inputs)\n",
        "norm_decoder = decoder()\n",
        "_, _, norm_codings = norm_encoder(inputs)\n",
        "norm_reconstructions = norm_decoder(norm_codings)\n",
        "norm_vae = keras.models.Model(inputs=[inputs], outputs=[norm_reconstructions])\n",
        "\n",
        "latent_loss = -0.5 * K.sum(1 + norm_codings_log_var - K.exp(norm_codings_log_var) - K.square(norm_codings_mean), axis=-1)\n",
        "\n",
        "\n",
        "inputs = keras.layers.Input(shape=(224, 224, 3))\n",
        "sch_encoder, sch_codings_log_var, sch_codings_mean = encoder(inputs)\n",
        "sch_decoder = decoder()\n",
        "_, _, sch_codings = sch_encoder(inputs)\n",
        "sch_reconstructions = sch_decoder(sch_codings)\n",
        "sch_vae = keras.models.Model(inputs=[inputs], outputs=[sch_reconstructions])\n",
        "\n",
        "sch_latent_loss = -0.5 * K.sum(1 + sch_codings_log_var - K.exp(sch_codings_log_var) - K.square(sch_codings_mean), axis=-1)\n"
      ]
    },
    {
      "cell_type": "code",
      "execution_count": null,
      "metadata": {
        "colab": {
          "base_uri": "https://localhost:8080/"
        },
        "id": "LBSGIsUI8jWk",
        "outputId": "f6f8b9fb-4a69-4cce-820d-5f17f88dd213"
      },
      "outputs": [
        {
          "name": "stderr",
          "output_type": "stream",
          "text": [
            "WARNING:tensorflow:No training configuration found in the save file, so the model was *not* compiled. Compile it manually.\n",
            "WARNING:tensorflow:No training configuration found in the save file, so the model was *not* compiled. Compile it manually.\n"
          ]
        }
      ],
      "source": [
        "norm_encoder, norm_decoder = load_autoencoder({'encoder': 'norm_encoder_v3.h5', 'decoder': 'norm_decoder_v3.h5'})"
      ]
    },
    {
      "cell_type": "code",
      "execution_count": null,
      "metadata": {
        "colab": {
          "base_uri": "https://localhost:8080/"
        },
        "id": "fXM8jgQBYdg5",
        "outputId": "b1a61584-64b0-447d-c2aa-625d3b4e0ddb"
      },
      "outputs": [
        {
          "name": "stderr",
          "output_type": "stream",
          "text": [
            "WARNING:tensorflow:No training configuration found in the save file, so the model was *not* compiled. Compile it manually.\n",
            "WARNING:tensorflow:No training configuration found in the save file, so the model was *not* compiled. Compile it manually.\n"
          ]
        }
      ],
      "source": [
        "sch_encoder, sch_decoder = load_autoencoder({'encoder': 'sch_encoder_v3.h5', 'decoder': 'sch_decoder_v3.h5'})"
      ]
    },
    {
      "cell_type": "code",
      "execution_count": null,
      "metadata": {
        "colab": {
          "base_uri": "https://localhost:8080/",
          "height": 545
        },
        "id": "FoFcK5nB9lZy",
        "outputId": "e6ba8cb4-e5cf-4dd5-a205-3c69786a4490"
      },
      "outputs": [
        {
          "data": {
            "image/png": "[encoded data removed]",
            "text/plain": [
              "<Figure size 432x288 with 1 Axes>"
            ]
          },
          "metadata": {
            "needs_background": "light"
          },
          "output_type": "display_data"
        },
        {
          "data": {
            "image/png": "[encoded data removed]",
            "text/plain": [
              "<Figure size 432x288 with 1 Axes>"
            ]
          },
          "metadata": {
            "needs_background": "light"
          },
          "output_type": "display_data"
        }
      ],
      "source": [
        "codings = tf.random.normal(shape=[1, latent_dim])\n",
        "images = sch_decoder(codings).numpy()\n",
        "plt.title('VAE generated sample')\n",
        "plt.imshow(np.squeeze(images))\n",
        "plt.show()\n",
        "\n",
        "plt.title('Original generated sample')\n",
        "plt.imshow(X_train[1])\n",
        "plt.show()"
      ]
    },
    {
      "cell_type": "code",
      "execution_count": null,
      "metadata": {
        "colab": {
          "base_uri": "https://localhost:8080/"
        },
        "id": "cdgJsPMf-MHu",
        "outputId": "9a99b6e4-b720-4253-c22e-28ec4ad78e5a"
      },
      "outputs": [
        {
          "data": {
            "text/plain": [
              "(224, 224, 3)"
            ]
          },
          "execution_count": 15,
          "metadata": {},
          "output_type": "execute_result"
        }
      ],
      "source": [
        "def generate_synth_data(decoder):\n",
        "  codings = tf.random.normal(shape=[1, latent_dim])\n",
        "  images = decoder(codings).numpy()\n",
        "  return np.squeeze(images)\n",
        "\n",
        "generate_synth_data(norm_decoder).shape"
      ]
    },
    {
      "cell_type": "code",
      "execution_count": null,
      "metadata": {
        "id": "fH974qjMA5C8"
      },
      "outputs": [],
      "source": [
        "count = 150\n",
        "synth_sch = [(generate_synth_data(sch_decoder), 1) for i in range(0, count)]\n",
        "synth_norm = [(generate_synth_data(norm_decoder), 0) for i in range(0, count + 20)]\n",
        "synth_dataset = []\n",
        "synth_dataset.extend(synth_sch)\n",
        "synth_dataset.extend(synth_norm)"
      ]
    },
    {
      "cell_type": "code",
      "execution_count": null,
      "metadata": {
        "colab": {
          "base_uri": "https://localhost:8080/"
        },
        "id": "6g7lHHteCNEz",
        "outputId": "d3214bfa-b0d0-4d1d-cd4b-7f039be55800"
      },
      "outputs": [
        {
          "name": "stdout",
          "output_type": "stream",
          "text": [
            "(320, 224, 224, 3) (320,)\n"
          ]
        }
      ],
      "source": [
        "random.shuffle(synth_dataset)\n",
        "X_syn, y_syn = seperate_lebale(synth_dataset)\n",
        "print(X_syn.shape, y_syn.shape)"
      ]
    },
    {
      "cell_type": "code",
      "execution_count": null,
      "metadata": {
        "id": "-wWYO2dXCpTf"
      },
      "outputs": [],
      "source": [
        "X_aug, y_aug = np.concatenate([X_train, X_syn]), np.concatenate([y_train, y_syn])"
      ]
    },
    {
      "cell_type": "code",
      "execution_count": null,
      "metadata": {
        "colab": {
          "base_uri": "https://localhost:8080/"
        },
        "id": "1r1AxSPS-Mbv",
        "outputId": "b3b3f7e1-0593-4586-e870-2056b2484796"
      },
      "outputs": [
        {
          "name": "stdout",
          "output_type": "stream",
          "text": [
            "(array([0, 1]), array([534, 545]))\n",
            "(1079, 224, 224, 3) (1079,)\n"
          ]
        }
      ],
      "source": [
        "print(np.unique(y_aug, return_counts=True))\n",
        "print(X_aug.shape, y_aug.shape)"
      ]
    },
    {
      "cell_type": "code",
      "execution_count": null,
      "metadata": {
        "colab": {
          "base_uri": "https://localhost:8080/"
        },
        "id": "IvD6tnJAE08Z",
        "outputId": "d1e846d3-32e7-46d7-9cbb-e5a7f0da61db"
      },
      "outputs": [
        {
          "name": "stdout",
          "output_type": "stream",
          "text": [
            "Model: \"sequential\"\n",
            "_________________________________________________________________\n",
            " Layer (type)                Output Shape              Param #   \n",
            "=================================================================\n",
            " conv2d_10 (Conv2D)          (None, 224, 224, 64)      1792      \n",
            "                                                                 \n",
            " conv2d_11 (Conv2D)          (None, 224, 224, 64)      36928     \n",
            "                                                                 \n",
            " max_pooling2d (MaxPooling2D  (None, 112, 112, 64)     0         \n",
            " )                                                               \n",
            "                                                                 \n",
            " conv2d_12 (Conv2D)          (None, 112, 112, 128)     73856     \n",
            "                                                                 \n",
            " conv2d_13 (Conv2D)          (None, 112, 112, 128)     147584    \n",
            "                                                                 \n",
            " max_pooling2d_1 (MaxPooling  (None, 56, 56, 128)      0         \n",
            " 2D)                                                             \n",
            "                                                                 \n",
            " conv2d_14 (Conv2D)          (None, 56, 56, 256)       295168    \n",
            "                                                                 \n",
            " conv2d_15 (Conv2D)          (None, 56, 56, 256)       590080    \n",
            "                                                                 \n",
            " conv2d_16 (Conv2D)          (None, 56, 56, 256)       590080    \n",
            "                                                                 \n",
            " max_pooling2d_2 (MaxPooling  (None, 28, 28, 256)      0         \n",
            " 2D)                                                             \n",
            "                                                                 \n",
            " conv2d_17 (Conv2D)          (None, 28, 28, 512)       1180160   \n",
            "                                                                 \n",
            " conv2d_18 (Conv2D)          (None, 28, 28, 512)       2359808   \n",
            "                                                                 \n",
            " conv2d_19 (Conv2D)          (None, 28, 28, 512)       2359808   \n",
            "                                                                 \n",
            " max_pooling2d_3 (MaxPooling  (None, 14, 14, 512)      0         \n",
            " 2D)                                                             \n",
            "                                                                 \n",
            " conv2d_20 (Conv2D)          (None, 14, 14, 512)       2359808   \n",
            "                                                                 \n",
            " conv2d_21 (Conv2D)          (None, 14, 14, 512)       2359808   \n",
            "                                                                 \n",
            " conv2d_22 (Conv2D)          (None, 14, 14, 512)       2359808   \n",
            "                                                                 \n",
            " max_pooling2d_4 (MaxPooling  (None, 7, 7, 512)        0         \n",
            " 2D)                                                             \n",
            "                                                                 \n",
            " flatten_2 (Flatten)         (None, 25088)             0         \n",
            "                                                                 \n",
            " dense_6 (Dense)             (None, 4096)              102764544 \n",
            "                                                                 \n",
            " dense_7 (Dense)             (None, 4096)              16781312  \n",
            "                                                                 \n",
            " dense_8 (Dense)             (None, 2)                 8194      \n",
            "                                                                 \n",
            "=================================================================\n",
            "Total params: 134,268,738\n",
            "Trainable params: 134,268,738\n",
            "Non-trainable params: 0\n",
            "_________________________________________________________________\n"
          ]
        }
      ],
      "source": [
        "tf.random.set_seed(123)\n",
        "np.random.seed(123)\n",
        "\n",
        "num_classes = 2\n",
        "\n",
        "augmented_model = keras.Sequential()\n",
        "augmented_model.add(layers.Conv2D(input_shape=(224,224,3),filters=64,kernel_size=(3,3),padding=\"same\", activation=\"relu\"))\n",
        "augmented_model.add(layers.Conv2D(filters=64,kernel_size=(3,3),padding=\"same\", activation=\"relu\"))\n",
        "augmented_model.add(layers.MaxPool2D(pool_size=(2,2),strides=(2,2)))\n",
        "augmented_model.add(layers.Conv2D(filters=128, kernel_size=(3,3), padding=\"same\", activation=\"relu\"))\n",
        "augmented_model.add(layers.Conv2D(filters=128, kernel_size=(3,3), padding=\"same\", activation=\"relu\"))\n",
        "augmented_model.add(layers.MaxPooling2D(pool_size=(2,2),strides=(2,2)))\n",
        "augmented_model.add(layers.Conv2D(filters=256, kernel_size=(3,3), padding=\"same\", activation=\"relu\"))\n",
        "augmented_model.add(layers.Conv2D(filters=256, kernel_size=(3,3), padding=\"same\", activation=\"relu\"))\n",
        "augmented_model.add(layers.Conv2D(filters=256, kernel_size=(3,3), padding=\"same\", activation=\"relu\"))\n",
        "augmented_model.add(layers.MaxPooling2D(pool_size=(2,2),strides=(2,2)))\n",
        "augmented_model.add(layers.Conv2D(filters=512, kernel_size=(3,3), padding=\"same\", activation=\"relu\"))\n",
        "augmented_model.add(layers.Conv2D(filters=512, kernel_size=(3,3), padding=\"same\", activation=\"relu\"))\n",
        "augmented_model.add(layers.Conv2D(filters=512, kernel_size=(3,3), padding=\"same\", activation=\"relu\"))\n",
        "augmented_model.add(layers.MaxPooling2D(pool_size=(2,2),strides=(2,2)))\n",
        "augmented_model.add(layers.Conv2D(filters=512, kernel_size=(3,3), padding=\"same\", activation=\"relu\"))\n",
        "augmented_model.add(layers.Conv2D(filters=512, kernel_size=(3,3), padding=\"same\", activation=\"relu\"))\n",
        "augmented_model.add(layers.Conv2D(filters=512, kernel_size=(3,3), padding=\"same\", activation=\"relu\"))\n",
        "augmented_model.add(layers.MaxPooling2D(pool_size=(2,2),strides=(2,2)))\n",
        "augmented_model.add(layers.Flatten())\n",
        "augmented_model.add(layers.Dense(4096,activation=\"relu\"))\n",
        "augmented_model.add(layers.Dense(4096,activation=\"relu\"))\n",
        "augmented_model.add(layers.Dense(num_classes, activation=\"softmax\"))\n",
        "augmented_model.summary()"
      ]
    },
    {
      "cell_type": "code",
      "execution_count": null,
      "metadata": {
        "colab": {
          "base_uri": "https://localhost:8080/"
        },
        "id": "wBL3UjReE4oF",
        "outputId": "81559469-8887-42b8-855f-bb8de7a7dc44"
      },
      "outputs": [
        {
          "name": "stdout",
          "output_type": "stream",
          "text": [
            "Epoch 1/70\n",
            "9/9 [==============================] - 51s 4s/step - loss: 0.6939 - accuracy: 0.4958 - val_loss: 0.6921 - val_accuracy: 0.5767\n",
            "Epoch 2/70\n",
            "9/9 [==============================] - 17s 2s/step - loss: 0.6932 - accuracy: 0.5051 - val_loss: 0.6928 - val_accuracy: 0.5767\n",
            "Epoch 3/70\n",
            "9/9 [==============================] - 17s 2s/step - loss: 0.6932 - accuracy: 0.5051 - val_loss: 0.6930 - val_accuracy: 0.5767\n",
            "Epoch 4/70\n",
            "9/9 [==============================] - 17s 2s/step - loss: 0.6932 - accuracy: 0.4921 - val_loss: 0.6931 - val_accuracy: 0.5767\n",
            "Epoch 5/70\n",
            "9/9 [==============================] - 17s 2s/step - loss: 0.6932 - accuracy: 0.4699 - val_loss: 0.6931 - val_accuracy: 0.5238\n",
            "Epoch 6/70\n",
            "9/9 [==============================] - 17s 2s/step - loss: 0.6930 - accuracy: 0.5366 - val_loss: 0.6936 - val_accuracy: 0.4339\n",
            "Epoch 7/70\n",
            "9/9 [==============================] - 17s 2s/step - loss: 0.6844 - accuracy: 0.5514 - val_loss: 0.8326 - val_accuracy: 0.4709\n",
            "Epoch 8/70\n",
            "9/9 [==============================] - 17s 2s/step - loss: 0.6862 - accuracy: 0.5246 - val_loss: 0.6921 - val_accuracy: 0.5926\n",
            "Epoch 9/70\n",
            "9/9 [==============================] - 17s 2s/step - loss: 0.6891 - accuracy: 0.5273 - val_loss: 0.6919 - val_accuracy: 0.4815\n",
            "Epoch 10/70\n",
            "9/9 [==============================] - 17s 2s/step - loss: 0.6295 - accuracy: 0.6070 - val_loss: 0.7902 - val_accuracy: 0.5238\n",
            "Epoch 11/70\n",
            "9/9 [==============================] - 17s 2s/step - loss: 0.4831 - accuracy: 0.7711 - val_loss: 0.6515 - val_accuracy: 0.7778\n",
            "Epoch 12/70\n",
            "9/9 [==============================] - 17s 2s/step - loss: 0.4230 - accuracy: 0.8452 - val_loss: 0.6239 - val_accuracy: 0.7672\n",
            "Epoch 13/70\n",
            "9/9 [==============================] - 17s 2s/step - loss: 0.3576 - accuracy: 0.8740 - val_loss: 0.5512 - val_accuracy: 0.7778\n",
            "Epoch 14/70\n",
            "9/9 [==============================] - 17s 2s/step - loss: 0.3318 - accuracy: 0.8925 - val_loss: 0.4416 - val_accuracy: 0.7937\n",
            "Epoch 15/70\n",
            "9/9 [==============================] - 17s 2s/step - loss: 0.2790 - accuracy: 0.8943 - val_loss: 0.3411 - val_accuracy: 0.8413\n",
            "Epoch 16/70\n",
            "9/9 [==============================] - 17s 2s/step - loss: 0.2245 - accuracy: 0.9129 - val_loss: 0.4002 - val_accuracy: 0.8307\n",
            "Epoch 17/70\n",
            "9/9 [==============================] - 17s 2s/step - loss: 0.2106 - accuracy: 0.9120 - val_loss: 0.2811 - val_accuracy: 0.8783\n",
            "Epoch 18/70\n",
            "9/9 [==============================] - 17s 2s/step - loss: 0.1694 - accuracy: 0.9314 - val_loss: 0.2571 - val_accuracy: 0.9101\n",
            "Epoch 19/70\n",
            "9/9 [==============================] - 17s 2s/step - loss: 0.1365 - accuracy: 0.9509 - val_loss: 0.3028 - val_accuracy: 0.8889\n",
            "Epoch 20/70\n",
            "9/9 [==============================] - 17s 2s/step - loss: 0.1233 - accuracy: 0.9546 - val_loss: 0.3786 - val_accuracy: 0.8677\n",
            "Epoch 21/70\n",
            "9/9 [==============================] - 17s 2s/step - loss: 0.1353 - accuracy: 0.9500 - val_loss: 0.3835 - val_accuracy: 0.8836\n",
            "Epoch 22/70\n",
            "9/9 [==============================] - 17s 2s/step - loss: 0.1346 - accuracy: 0.9444 - val_loss: 0.2277 - val_accuracy: 0.9101\n",
            "Epoch 23/70\n",
            "9/9 [==============================] - 17s 2s/step - loss: 0.0886 - accuracy: 0.9657 - val_loss: 0.2531 - val_accuracy: 0.9048\n",
            "Epoch 24/70\n",
            "9/9 [==============================] - 17s 2s/step - loss: 0.0764 - accuracy: 0.9703 - val_loss: 0.2277 - val_accuracy: 0.9153\n",
            "Epoch 25/70\n",
            "9/9 [==============================] - 17s 2s/step - loss: 0.0603 - accuracy: 0.9750 - val_loss: 0.1666 - val_accuracy: 0.9259\n",
            "Epoch 26/70\n",
            "9/9 [==============================] - 17s 2s/step - loss: 0.0398 - accuracy: 0.9861 - val_loss: 0.1862 - val_accuracy: 0.9471\n",
            "Epoch 27/70\n",
            "9/9 [==============================] - 17s 2s/step - loss: 0.0278 - accuracy: 0.9870 - val_loss: 0.2831 - val_accuracy: 0.9365\n",
            "Epoch 28/70\n",
            "9/9 [==============================] - 17s 2s/step - loss: 0.0454 - accuracy: 0.9815 - val_loss: 0.5941 - val_accuracy: 0.9101\n",
            "Epoch 29/70\n",
            "9/9 [==============================] - 17s 2s/step - loss: 0.1313 - accuracy: 0.9574 - val_loss: 0.5258 - val_accuracy: 0.8307\n",
            "Epoch 30/70\n",
            "9/9 [==============================] - 17s 2s/step - loss: 0.1361 - accuracy: 0.9444 - val_loss: 0.2611 - val_accuracy: 0.8995\n",
            "Epoch 31/70\n",
            "9/9 [==============================] - 17s 2s/step - loss: 0.0883 - accuracy: 0.9703 - val_loss: 0.2861 - val_accuracy: 0.8836\n",
            "Epoch 32/70\n",
            "9/9 [==============================] - 17s 2s/step - loss: 0.0729 - accuracy: 0.9694 - val_loss: 0.4158 - val_accuracy: 0.8519\n",
            "Epoch 33/70\n",
            "9/9 [==============================] - 17s 2s/step - loss: 0.0886 - accuracy: 0.9629 - val_loss: 0.4456 - val_accuracy: 0.8836\n",
            "Epoch 34/70\n",
            "9/9 [==============================] - 17s 2s/step - loss: 0.1181 - accuracy: 0.9546 - val_loss: 0.1472 - val_accuracy: 0.9365\n",
            "Epoch 35/70\n",
            "9/9 [==============================] - 17s 2s/step - loss: 0.0469 - accuracy: 0.9842 - val_loss: 0.1231 - val_accuracy: 0.9577\n",
            "Epoch 36/70\n",
            "9/9 [==============================] - 17s 2s/step - loss: 0.0419 - accuracy: 0.9833 - val_loss: 0.1739 - val_accuracy: 0.9524\n",
            "Epoch 37/70\n",
            "9/9 [==============================] - 17s 2s/step - loss: 0.0231 - accuracy: 0.9926 - val_loss: 0.2889 - val_accuracy: 0.9312\n",
            "Epoch 38/70\n",
            "9/9 [==============================] - 17s 2s/step - loss: 0.0220 - accuracy: 0.9935 - val_loss: 0.3174 - val_accuracy: 0.9259\n",
            "Epoch 39/70\n",
            "9/9 [==============================] - 17s 2s/step - loss: 0.0225 - accuracy: 0.9926 - val_loss: 0.4243 - val_accuracy: 0.9312\n",
            "Epoch 40/70\n",
            "9/9 [==============================] - 17s 2s/step - loss: 0.0316 - accuracy: 0.9880 - val_loss: 0.2162 - val_accuracy: 0.9365\n",
            "Epoch 41/70\n",
            "9/9 [==============================] - 17s 2s/step - loss: 0.0286 - accuracy: 0.9898 - val_loss: 0.1598 - val_accuracy: 0.9630\n",
            "Epoch 42/70\n",
            "9/9 [==============================] - 17s 2s/step - loss: 0.0135 - accuracy: 0.9954 - val_loss: 0.1558 - val_accuracy: 0.9735\n",
            "Epoch 43/70\n",
            "9/9 [==============================] - 17s 2s/step - loss: 0.0039 - accuracy: 0.9991 - val_loss: 0.1511 - val_accuracy: 0.9577\n",
            "Epoch 44/70\n",
            "9/9 [==============================] - 17s 2s/step - loss: 0.0017 - accuracy: 1.0000 - val_loss: 0.2060 - val_accuracy: 0.9524\n",
            "Epoch 45/70\n",
            "9/9 [==============================] - 17s 2s/step - loss: 9.9159e-04 - accuracy: 1.0000 - val_loss: 0.1483 - val_accuracy: 0.9683\n",
            "Epoch 46/70\n",
            "9/9 [==============================] - 17s 2s/step - loss: 2.6417e-04 - accuracy: 1.0000 - val_loss: 0.2322 - val_accuracy: 0.9524\n",
            "Epoch 47/70\n",
            "9/9 [==============================] - 17s 2s/step - loss: 1.5563e-04 - accuracy: 1.0000 - val_loss: 0.2405 - val_accuracy: 0.9577\n",
            "Epoch 48/70\n",
            "9/9 [==============================] - 17s 2s/step - loss: 6.5308e-05 - accuracy: 1.0000 - val_loss: 0.2126 - val_accuracy: 0.9683\n",
            "Epoch 49/70\n",
            "9/9 [==============================] - 17s 2s/step - loss: 4.9151e-05 - accuracy: 1.0000 - val_loss: 0.2062 - val_accuracy: 0.9683\n",
            "Epoch 50/70\n",
            "9/9 [==============================] - 17s 2s/step - loss: 4.1150e-05 - accuracy: 1.0000 - val_loss: 0.2107 - val_accuracy: 0.9683\n",
            "Epoch 51/70\n",
            "9/9 [==============================] - 17s 2s/step - loss: 3.2927e-05 - accuracy: 1.0000 - val_loss: 0.2158 - val_accuracy: 0.9683\n",
            "Epoch 52/70\n",
            "9/9 [==============================] - 17s 2s/step - loss: 2.9359e-05 - accuracy: 1.0000 - val_loss: 0.2177 - val_accuracy: 0.9683\n",
            "Epoch 53/70\n",
            "9/9 [==============================] - 17s 2s/step - loss: 2.6775e-05 - accuracy: 1.0000 - val_loss: 0.2175 - val_accuracy: 0.9683\n",
            "Epoch 54/70\n",
            "9/9 [==============================] - 17s 2s/step - loss: 2.4498e-05 - accuracy: 1.0000 - val_loss: 0.2171 - val_accuracy: 0.9683\n",
            "Epoch 55/70\n",
            "9/9 [==============================] - 17s 2s/step - loss: 2.2628e-05 - accuracy: 1.0000 - val_loss: 0.2175 - val_accuracy: 0.9683\n",
            "Epoch 56/70\n",
            "9/9 [==============================] - 17s 2s/step - loss: 2.1016e-05 - accuracy: 1.0000 - val_loss: 0.2184 - val_accuracy: 0.9683\n",
            "Epoch 57/70\n",
            "9/9 [==============================] - 17s 2s/step - loss: 1.9586e-05 - accuracy: 1.0000 - val_loss: 0.2196 - val_accuracy: 0.9683\n",
            "Epoch 58/70\n",
            "9/9 [==============================] - 17s 2s/step - loss: 1.8320e-05 - accuracy: 1.0000 - val_loss: 0.2208 - val_accuracy: 0.9683\n",
            "Epoch 59/70\n",
            "9/9 [==============================] - 17s 2s/step - loss: 1.7182e-05 - accuracy: 1.0000 - val_loss: 0.2219 - val_accuracy: 0.9683\n",
            "Epoch 60/70\n",
            "9/9 [==============================] - 17s 2s/step - loss: 1.6156e-05 - accuracy: 1.0000 - val_loss: 0.2230 - val_accuracy: 0.9683\n",
            "Epoch 61/70\n",
            "9/9 [==============================] - 17s 2s/step - loss: 1.5228e-05 - accuracy: 1.0000 - val_loss: 0.2239 - val_accuracy: 0.9683\n",
            "Epoch 62/70\n",
            "9/9 [==============================] - 17s 2s/step - loss: 1.4383e-05 - accuracy: 1.0000 - val_loss: 0.2249 - val_accuracy: 0.9683\n",
            "Epoch 63/70\n",
            "9/9 [==============================] - 17s 2s/step - loss: 1.3610e-05 - accuracy: 1.0000 - val_loss: 0.2258 - val_accuracy: 0.9683\n",
            "Epoch 64/70\n",
            "9/9 [==============================] - 17s 2s/step - loss: 1.2903e-05 - accuracy: 1.0000 - val_loss: 0.2268 - val_accuracy: 0.9683\n",
            "Epoch 65/70\n",
            "9/9 [==============================] - 17s 2s/step - loss: 1.2253e-05 - accuracy: 1.0000 - val_loss: 0.2277 - val_accuracy: 0.9683\n",
            "Epoch 66/70\n",
            "9/9 [==============================] - 17s 2s/step - loss: 1.1652e-05 - accuracy: 1.0000 - val_loss: 0.2286 - val_accuracy: 0.9683\n",
            "Epoch 67/70\n",
            "9/9 [==============================] - 17s 2s/step - loss: 1.1097e-05 - accuracy: 1.0000 - val_loss: 0.2295 - val_accuracy: 0.9683\n",
            "Epoch 68/70\n",
            "9/9 [==============================] - 17s 2s/step - loss: 1.0583e-05 - accuracy: 1.0000 - val_loss: 0.2304 - val_accuracy: 0.9683\n",
            "Epoch 69/70\n",
            "9/9 [==============================] - 17s 2s/step - loss: 1.0104e-05 - accuracy: 1.0000 - val_loss: 0.2313 - val_accuracy: 0.9683\n",
            "Epoch 70/70\n",
            "9/9 [==============================] - 17s 2s/step - loss: 9.6572e-06 - accuracy: 1.0000 - val_loss: 0.2321 - val_accuracy: 0.9683\n"
          ]
        },
        {
          "data": {
            "text/plain": [
              "<keras.callbacks.History at 0x7f9a947b8160>"
            ]
          },
          "execution_count": 21,
          "metadata": {},
          "output_type": "execute_result"
        }
      ],
      "source": [
        "opt = keras.optimizers.Adam(learning_rate=0.0001)\n",
        "augmented_model.compile(optimizer=opt, loss=tf.keras.losses.SparseCategoricalCrossentropy(), metrics=['accuracy'])\n",
        "augmented_model.fit(X_aug, y_aug, validation_data=(X_valid, y_valid), epochs=70, batch_size=128, shuffle=False)"
      ]
    },
    {
      "cell_type": "markdown",
      "metadata": {
        "id": "0vyxRTUDyGhz"
      },
      "source": [
        "**Augmented Data yields 2% improvements over the normal classification (so far)**"
      ]
    },
    {
      "cell_type": "code",
      "execution_count": null,
      "metadata": {
        "id": "yEfhwYLqyGIL"
      },
      "outputs": [],
      "source": [
        "augmented_model.save(os.path.join(models_path, 'augmented_model.h5'))"
      ]
    }
  ],
  "metadata": {
    "accelerator": "GPU",
    "colab": {
      "provenance": [],
      "include_colab_link": true
    },
    "gpuClass": "standard",
    "kernelspec": {
      "display_name": "Python 3 (ipykernel)",
      "language": "python",
      "name": "python3"
    },
    "language_info": {
      "codemirror_mode": {
        "name": "ipython",
        "version": 3
      },
      "file_extension": ".py",
      "mimetype": "text/x-python",
      "name": "python",
      "nbconvert_exporter": "python",
      "pygments_lexer": "ipython3",
      "version": "3.9.6"
    }
  },
  "nbformat": 4,
  "nbformat_minor": 0
}