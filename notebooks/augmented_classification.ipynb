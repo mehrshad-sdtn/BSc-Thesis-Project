{
  "nbformat": 4,
  "nbformat_minor": 0,
  "metadata": {
    "colab": {
      "provenance": [],
      "mount_file_id": "1WAuopwCtqovwXavHgqaMyRpkRxqlFbph",
      "authorship_tag": "ABX9TyPokoupUNTHF2VgaJmyjBG+",
      "include_colab_link": true
    },
    "kernelspec": {
      "name": "python3",
      "display_name": "Python 3"
    },
    "language_info": {
      "name": "python"
    },
    "accelerator": "GPU",
    "gpuClass": "standard"
  },
  "cells": [
    {
      "cell_type": "markdown",
      "metadata": {
        "id": "view-in-github",
        "colab_type": "text"
      },
      "source": [
        "<a href=\"https://colab.research.google.com/github/mehrshad-sdtn/BSc-Thesis-Project/blob/master/notebooks/augmented_classification.ipynb\" target=\"_parent\"><img src=\"https://colab.research.google.com/assets/colab-badge.svg\" alt=\"Open In Colab\"/></a>"
      ]
    },
    {
      "cell_type": "code",
      "execution_count": 1,
      "metadata": {
        "id": "RtQaGf9xK5Gl"
      },
      "outputs": [],
      "source": [
        "import os\n",
        "import cv2\n",
        "import glob\n",
        "import pathlib\n",
        "import PIL, PIL.Image\n",
        "import numpy as np\n",
        "import tensorflow as tf\n",
        "from tensorflow import keras\n",
        "from keras import layers\n",
        "import matplotlib.pyplot as plt\n",
        "from keras import backend as K"
      ]
    },
    {
      "cell_type": "code",
      "source": [
        "base_dir = '/content/drive/MyDrive'\n",
        "data_dir = os.path.join(base_dir, 'BSc_Project', 'out')\n",
        "a_dataset = os.path.join(data_dir, 'A')\n",
        "models_path = os.path.join(base_dir, 'BSc_Project', 'models')"
      ],
      "metadata": {
        "id": "FkXd94xGNvHS"
      },
      "execution_count": 2,
      "outputs": []
    },
    {
      "cell_type": "code",
      "source": [
        "batch_size = 64\n",
        "img_height = 224\n",
        "img_width = 224"
      ],
      "metadata": {
        "id": "WWZh9_Qy0sgY"
      },
      "execution_count": 3,
      "outputs": []
    },
    {
      "cell_type": "code",
      "source": [
        "def load_image(filepath, dims):\n",
        "   image = cv2.cvtColor(\n",
        "      cv2.imread(filepath), cv2.COLOR_BGR2RGB)\n",
        "   image = cv2.resize(image, dims)\n",
        "   image = image.astype('float32') / 255.0\n",
        "   return image\n",
        "\n",
        "\n",
        "def image_arrays_from_directory(directory):\n",
        "  arrays = []\n",
        "  counter = 0\n",
        "  for i, cat in enumerate(os.listdir(directory)):\n",
        "    path = os.path.join(directory, cat)\n",
        "    for image in os.listdir(path):\n",
        "      counter += 1\n",
        "      image = load_image(os.path.join(path, image), dims=(img_height, img_width))\n",
        "      arrays.append((image, 1 - i))\n",
        "  print(f\"{counter} images were read\")\n",
        "  return arrays\n",
        "\n",
        "\n",
        "def train_validation_split(data_array, ratio):\n",
        "  length = int(ratio * len(data_array))\n",
        "  return data_array[length:], data_array[:length]"
      ],
      "metadata": {
        "id": "eXWjCTVZyCAO"
      },
      "execution_count": 4,
      "outputs": []
    },
    {
      "cell_type": "code",
      "source": [
        "dataset_images = image_arrays_from_directory(a_dataset)\n",
        "dataset_images[0]"
      ],
      "metadata": {
        "colab": {
          "base_uri": "https://localhost:8080/"
        },
        "id": "pS5dSKgs3Crg",
        "outputId": "d599837d-5ef8-4adb-fc79-21649e6337d1"
      },
      "execution_count": 5,
      "outputs": [
        {
          "output_type": "stream",
          "name": "stdout",
          "text": [
            "948 images were read\n"
          ]
        },
        {
          "output_type": "execute_result",
          "data": {
            "text/plain": [
              "(array([[[0.12156863, 0.5764706 , 0.54509807],\n",
              "         [0.12156863, 0.5764706 , 0.54509807],\n",
              "         [0.12156863, 0.5764706 , 0.54509807],\n",
              "         ...,\n",
              "         [0.12156863, 0.5764706 , 0.54509807],\n",
              "         [0.12156863, 0.5764706 , 0.54509807],\n",
              "         [0.12156863, 0.5764706 , 0.54509807]],\n",
              " \n",
              "        [[0.13333334, 0.5372549 , 0.5529412 ],\n",
              "         [0.13333334, 0.5372549 , 0.5529412 ],\n",
              "         [0.13333334, 0.5372549 , 0.5529412 ],\n",
              "         ...,\n",
              "         [0.11764706, 0.6156863 , 0.53333336],\n",
              "         [0.11764706, 0.6156863 , 0.53333336],\n",
              "         [0.11764706, 0.6156863 , 0.53333336]],\n",
              " \n",
              "        [[0.11764706, 0.6156863 , 0.53333336],\n",
              "         [0.11764706, 0.6156863 , 0.53333336],\n",
              "         [0.11764706, 0.6156863 , 0.53333336],\n",
              "         ...,\n",
              "         [0.1254902 , 0.5686275 , 0.54901963],\n",
              "         [0.1254902 , 0.5686275 , 0.54901963],\n",
              "         [0.1254902 , 0.5686275 , 0.54901963]],\n",
              " \n",
              "        ...,\n",
              " \n",
              "        [[0.92941177, 0.8980392 , 0.10588235],\n",
              "         [0.92941177, 0.8980392 , 0.10588235],\n",
              "         [0.92941177, 0.8980392 , 0.10588235],\n",
              "         ...,\n",
              "         [0.49411765, 0.8235294 , 0.30588236],\n",
              "         [0.49411765, 0.8235294 , 0.30588236],\n",
              "         [0.49411765, 0.8235294 , 0.30588236]],\n",
              " \n",
              "        [[0.6745098 , 0.8627451 , 0.1882353 ],\n",
              "         [0.6745098 , 0.8627451 , 0.1882353 ],\n",
              "         [0.6745098 , 0.8627451 , 0.1882353 ],\n",
              "         ...,\n",
              "         [0.6117647 , 0.8509804 , 0.23137255],\n",
              "         [0.6117647 , 0.8509804 , 0.23137255],\n",
              "         [0.6117647 , 0.8509804 , 0.23137255]],\n",
              " \n",
              "        [[0.7176471 , 0.8666667 , 0.16470589],\n",
              "         [0.7176471 , 0.8666667 , 0.16470589],\n",
              "         [0.7176471 , 0.8666667 , 0.16470589],\n",
              "         ...,\n",
              "         [0.5058824 , 0.827451  , 0.29803923],\n",
              "         [0.5058824 , 0.827451  , 0.29803923],\n",
              "         [0.5058824 , 0.827451  , 0.29803923]]], dtype=float32), 1)"
            ]
          },
          "metadata": {},
          "execution_count": 5
        }
      ]
    },
    {
      "cell_type": "code",
      "source": [
        "import random\n",
        "random.seed(123)\n",
        "random.shuffle(dataset_images)\n",
        "train, validation = train_validation_split(dataset_images, ratio=0.2)"
      ],
      "metadata": {
        "id": "etlaWhms09l7"
      },
      "execution_count": 6,
      "outputs": []
    },
    {
      "cell_type": "code",
      "source": [
        "len(train), len(validation)"
      ],
      "metadata": {
        "colab": {
          "base_uri": "https://localhost:8080/"
        },
        "id": "fHBN_V5w438y",
        "outputId": "3f4a7eb4-adfe-4bf3-c228-7950be7dfc33"
      },
      "execution_count": 7,
      "outputs": [
        {
          "output_type": "execute_result",
          "data": {
            "text/plain": [
              "(759, 189)"
            ]
          },
          "metadata": {},
          "execution_count": 7
        }
      ]
    },
    {
      "cell_type": "code",
      "source": [
        "def seperate_lebale(paired_data):\n",
        "  X = np.array([data for data, label in paired_data])\n",
        "  y = np.array([label for data, label in paired_data])\n",
        "  return X, y\n",
        "\n",
        "\n",
        "X_train, y_train = seperate_lebale(train)\n",
        "X_valid, y_valid = seperate_lebale(validation)"
      ],
      "metadata": {
        "id": "VIzil7Aa5GEC"
      },
      "execution_count": 8,
      "outputs": []
    },
    {
      "cell_type": "code",
      "source": [
        "X_train.shape, y_train.shape"
      ],
      "metadata": {
        "colab": {
          "base_uri": "https://localhost:8080/"
        },
        "id": "JgBxmhlt5p2K",
        "outputId": "bab6de70-8b37-4c70-b824-182aef4aefc8"
      },
      "execution_count": 9,
      "outputs": [
        {
          "output_type": "execute_result",
          "data": {
            "text/plain": [
              "((759, 224, 224, 3), (759,))"
            ]
          },
          "metadata": {},
          "execution_count": 9
        }
      ]
    },
    {
      "cell_type": "code",
      "source": [
        "train_dataset = tf.data.Dataset.from_tensor_slices((X_train, y_train))\n",
        "valid_dataset = tf.data.Dataset.from_tensor_slices((X_valid, y_valid))\n",
        "\n",
        "AUTOTUNE = tf.data.AUTOTUNE\n",
        "train_ds = train_dataset.batch(batch_size, drop_remainder=False).cache().prefetch(buffer_size=AUTOTUNE)\n",
        "val_ds = valid_dataset.batch(batch_size, drop_remainder=False).cache().prefetch(buffer_size=AUTOTUNE)"
      ],
      "metadata": {
        "id": "LG0x5Jvw4q1t"
      },
      "execution_count": 10,
      "outputs": []
    },
    {
      "cell_type": "markdown",
      "source": [
        "####**CNN classification with a VGG-16 model**\n",
        "First we train the CNN on the unaugmented dataset to obtain the baseline results for comparison to augmented data\n",
        "\n"
      ],
      "metadata": {
        "id": "Y1N4YZkMObNC"
      }
    },
    {
      "cell_type": "code",
      "source": [
        "tf.random.set_seed(123)\n",
        "np.random.seed(123)\n",
        "\n",
        "vgg16_model = keras.Sequential()\n",
        "vgg16_model.add(layers.Conv2D(input_shape=(224,224,3),filters=64,kernel_size=(3,3),padding=\"same\", activation=\"relu\"))\n",
        "vgg16_model.add(layers.Conv2D(filters=64,kernel_size=(3,3),padding=\"same\", activation=\"relu\"))\n",
        "vgg16_model.add(layers.MaxPool2D(pool_size=(2,2),strides=(2,2)))\n",
        "vgg16_model.add(layers.Conv2D(filters=128, kernel_size=(3,3), padding=\"same\", activation=\"relu\"))\n",
        "vgg16_model.add(layers.Conv2D(filters=128, kernel_size=(3,3), padding=\"same\", activation=\"relu\"))\n",
        "vgg16_model.add(layers.MaxPooling2D(pool_size=(2,2),strides=(2,2)))\n",
        "vgg16_model.add(layers.Conv2D(filters=256, kernel_size=(3,3), padding=\"same\", activation=\"relu\"))\n",
        "vgg16_model.add(layers.Conv2D(filters=256, kernel_size=(3,3), padding=\"same\", activation=\"relu\"))\n",
        "vgg16_model.add(layers.Conv2D(filters=256, kernel_size=(3,3), padding=\"same\", activation=\"relu\"))\n",
        "vgg16_model.add(layers.MaxPooling2D(pool_size=(2,2),strides=(2,2)))\n",
        "vgg16_model.add(layers.Conv2D(filters=512, kernel_size=(3,3), padding=\"same\", activation=\"relu\"))\n",
        "vgg16_model.add(layers.Conv2D(filters=512, kernel_size=(3,3), padding=\"same\", activation=\"relu\"))\n",
        "vgg16_model.add(layers.Conv2D(filters=512, kernel_size=(3,3), padding=\"same\", activation=\"relu\"))\n",
        "vgg16_model.add(layers.MaxPooling2D(pool_size=(2,2),strides=(2,2)))\n",
        "vgg16_model.add(layers.Conv2D(filters=512, kernel_size=(3,3), padding=\"same\", activation=\"relu\"))\n",
        "vgg16_model.add(layers.Conv2D(filters=512, kernel_size=(3,3), padding=\"same\", activation=\"relu\"))\n",
        "vgg16_model.add(layers.Conv2D(filters=512, kernel_size=(3,3), padding=\"same\", activation=\"relu\"))\n",
        "vgg16_model.add(layers.MaxPooling2D(pool_size=(2,2),strides=(2,2)))\n",
        "vgg16_model.add(layers.Flatten())\n",
        "vgg16_model.add(layers.Dense(4096,activation=\"relu\"))\n",
        "vgg16_model.add(layers.Dense(4096,activation=\"relu\"))\n",
        "vgg16_model.add(layers.Dense(2, activation=\"softmax\"))\n",
        "vgg16_model.summary()"
      ],
      "metadata": {
        "colab": {
          "base_uri": "https://localhost:8080/"
        },
        "id": "gW6d-NRE571D",
        "outputId": "f932268e-8fe5-43a2-87ef-51ad0552676f"
      },
      "execution_count": 11,
      "outputs": [
        {
          "output_type": "stream",
          "name": "stdout",
          "text": [
            "Model: \"sequential\"\n",
            "_________________________________________________________________\n",
            " Layer (type)                Output Shape              Param #   \n",
            "=================================================================\n",
            " conv2d (Conv2D)             (None, 224, 224, 64)      1792      \n",
            "                                                                 \n",
            " conv2d_1 (Conv2D)           (None, 224, 224, 64)      36928     \n",
            "                                                                 \n",
            " max_pooling2d (MaxPooling2D  (None, 112, 112, 64)     0         \n",
            " )                                                               \n",
            "                                                                 \n",
            " conv2d_2 (Conv2D)           (None, 112, 112, 128)     73856     \n",
            "                                                                 \n",
            " conv2d_3 (Conv2D)           (None, 112, 112, 128)     147584    \n",
            "                                                                 \n",
            " max_pooling2d_1 (MaxPooling  (None, 56, 56, 128)      0         \n",
            " 2D)                                                             \n",
            "                                                                 \n",
            " conv2d_4 (Conv2D)           (None, 56, 56, 256)       295168    \n",
            "                                                                 \n",
            " conv2d_5 (Conv2D)           (None, 56, 56, 256)       590080    \n",
            "                                                                 \n",
            " conv2d_6 (Conv2D)           (None, 56, 56, 256)       590080    \n",
            "                                                                 \n",
            " max_pooling2d_2 (MaxPooling  (None, 28, 28, 256)      0         \n",
            " 2D)                                                             \n",
            "                                                                 \n",
            " conv2d_7 (Conv2D)           (None, 28, 28, 512)       1180160   \n",
            "                                                                 \n",
            " conv2d_8 (Conv2D)           (None, 28, 28, 512)       2359808   \n",
            "                                                                 \n",
            " conv2d_9 (Conv2D)           (None, 28, 28, 512)       2359808   \n",
            "                                                                 \n",
            " max_pooling2d_3 (MaxPooling  (None, 14, 14, 512)      0         \n",
            " 2D)                                                             \n",
            "                                                                 \n",
            " conv2d_10 (Conv2D)          (None, 14, 14, 512)       2359808   \n",
            "                                                                 \n",
            " conv2d_11 (Conv2D)          (None, 14, 14, 512)       2359808   \n",
            "                                                                 \n",
            " conv2d_12 (Conv2D)          (None, 14, 14, 512)       2359808   \n",
            "                                                                 \n",
            " max_pooling2d_4 (MaxPooling  (None, 7, 7, 512)        0         \n",
            " 2D)                                                             \n",
            "                                                                 \n",
            " flatten (Flatten)           (None, 25088)             0         \n",
            "                                                                 \n",
            " dense (Dense)               (None, 4096)              102764544 \n",
            "                                                                 \n",
            " dense_1 (Dense)             (None, 4096)              16781312  \n",
            "                                                                 \n",
            " dense_2 (Dense)             (None, 2)                 8194      \n",
            "                                                                 \n",
            "=================================================================\n",
            "Total params: 134,268,738\n",
            "Trainable params: 134,268,738\n",
            "Non-trainable params: 0\n",
            "_________________________________________________________________\n"
          ]
        }
      ]
    },
    {
      "cell_type": "code",
      "source": [
        "opt = keras.optimizers.Adam(learning_rate=0.0001)\n",
        "vgg16_model.compile(optimizer=opt, loss=tf.keras.losses.SparseCategoricalCrossentropy(), metrics=['accuracy'])\n",
        "\n",
        "vgg16_model.fit(train_ds, validation_data=val_ds, epochs=80)"
      ],
      "metadata": {
        "colab": {
          "base_uri": "https://localhost:8080/"
        },
        "id": "cq0LCkAA6HYz",
        "outputId": "61ccbd4d-4f63-450a-83a2-daa334a379eb"
      },
      "execution_count": 12,
      "outputs": [
        {
          "output_type": "stream",
          "name": "stdout",
          "text": [
            "Epoch 1/80\n",
            "12/12 [==============================] - 44s 2s/step - loss: 0.6938 - accuracy: 0.4941 - val_loss: 0.6919 - val_accuracy: 0.5767\n",
            "Epoch 2/80\n",
            "12/12 [==============================] - 11s 903ms/step - loss: 0.6928 - accuracy: 0.5204 - val_loss: 0.6907 - val_accuracy: 0.5767\n",
            "Epoch 3/80\n",
            "12/12 [==============================] - 11s 907ms/step - loss: 0.6927 - accuracy: 0.5204 - val_loss: 0.6893 - val_accuracy: 0.5767\n",
            "Epoch 4/80\n",
            "12/12 [==============================] - 11s 914ms/step - loss: 0.6925 - accuracy: 0.5204 - val_loss: 0.6880 - val_accuracy: 0.5767\n",
            "Epoch 5/80\n",
            "12/12 [==============================] - 11s 927ms/step - loss: 0.6947 - accuracy: 0.5296 - val_loss: 0.6913 - val_accuracy: 0.5344\n",
            "Epoch 6/80\n",
            "12/12 [==============================] - 11s 922ms/step - loss: 0.6899 - accuracy: 0.5323 - val_loss: 0.6792 - val_accuracy: 0.6667\n",
            "Epoch 7/80\n",
            "12/12 [==============================] - 11s 927ms/step - loss: 0.6536 - accuracy: 0.6535 - val_loss: 0.6186 - val_accuracy: 0.7143\n",
            "Epoch 8/80\n",
            "12/12 [==============================] - 11s 927ms/step - loss: 0.4673 - accuracy: 0.7905 - val_loss: 0.3407 - val_accuracy: 0.8413\n",
            "Epoch 9/80\n",
            "12/12 [==============================] - 11s 925ms/step - loss: 0.3192 - accuracy: 0.8867 - val_loss: 0.3047 - val_accuracy: 0.8836\n",
            "Epoch 10/80\n",
            "12/12 [==============================] - 11s 930ms/step - loss: 0.2262 - accuracy: 0.9130 - val_loss: 0.2399 - val_accuracy: 0.9101\n",
            "Epoch 11/80\n",
            "12/12 [==============================] - 11s 921ms/step - loss: 0.1839 - accuracy: 0.9302 - val_loss: 0.3096 - val_accuracy: 0.8730\n",
            "Epoch 12/80\n",
            "12/12 [==============================] - 11s 910ms/step - loss: 0.1716 - accuracy: 0.9420 - val_loss: 0.2454 - val_accuracy: 0.8995\n",
            "Epoch 13/80\n",
            "12/12 [==============================] - 11s 927ms/step - loss: 0.1440 - accuracy: 0.9407 - val_loss: 0.3286 - val_accuracy: 0.8783\n",
            "Epoch 14/80\n",
            "12/12 [==============================] - 11s 934ms/step - loss: 0.1176 - accuracy: 0.9513 - val_loss: 0.2020 - val_accuracy: 0.9101\n",
            "Epoch 15/80\n",
            "12/12 [==============================] - 11s 943ms/step - loss: 0.0933 - accuracy: 0.9671 - val_loss: 0.1824 - val_accuracy: 0.9101\n",
            "Epoch 16/80\n",
            "12/12 [==============================] - 11s 942ms/step - loss: 0.1151 - accuracy: 0.9539 - val_loss: 0.3442 - val_accuracy: 0.8889\n",
            "Epoch 17/80\n",
            "12/12 [==============================] - 11s 942ms/step - loss: 0.0812 - accuracy: 0.9710 - val_loss: 0.2133 - val_accuracy: 0.9101\n",
            "Epoch 18/80\n",
            "12/12 [==============================] - 11s 945ms/step - loss: 0.0483 - accuracy: 0.9816 - val_loss: 0.2408 - val_accuracy: 0.9206\n",
            "Epoch 19/80\n",
            "12/12 [==============================] - 11s 948ms/step - loss: 0.0370 - accuracy: 0.9855 - val_loss: 0.2660 - val_accuracy: 0.9312\n",
            "Epoch 20/80\n",
            "12/12 [==============================] - 11s 956ms/step - loss: 0.0537 - accuracy: 0.9750 - val_loss: 0.3622 - val_accuracy: 0.8942\n",
            "Epoch 21/80\n",
            "12/12 [==============================] - 11s 963ms/step - loss: 0.0687 - accuracy: 0.9723 - val_loss: 0.3759 - val_accuracy: 0.8730\n",
            "Epoch 22/80\n",
            "12/12 [==============================] - 11s 937ms/step - loss: 0.0494 - accuracy: 0.9789 - val_loss: 0.3415 - val_accuracy: 0.8942\n",
            "Epoch 23/80\n",
            "12/12 [==============================] - 11s 938ms/step - loss: 0.0662 - accuracy: 0.9776 - val_loss: 0.5991 - val_accuracy: 0.8571\n",
            "Epoch 24/80\n",
            "12/12 [==============================] - 11s 946ms/step - loss: 0.1315 - accuracy: 0.9486 - val_loss: 0.5362 - val_accuracy: 0.8519\n",
            "Epoch 25/80\n",
            "12/12 [==============================] - 11s 955ms/step - loss: 0.1100 - accuracy: 0.9605 - val_loss: 0.2595 - val_accuracy: 0.9101\n",
            "Epoch 26/80\n",
            "12/12 [==============================] - 12s 980ms/step - loss: 0.0498 - accuracy: 0.9816 - val_loss: 0.5184 - val_accuracy: 0.8677\n",
            "Epoch 27/80\n",
            "12/12 [==============================] - 12s 1s/step - loss: 0.1582 - accuracy: 0.9499 - val_loss: 0.2968 - val_accuracy: 0.8836\n",
            "Epoch 28/80\n",
            "12/12 [==============================] - 12s 988ms/step - loss: 0.0833 - accuracy: 0.9723 - val_loss: 0.2717 - val_accuracy: 0.9101\n",
            "Epoch 29/80\n",
            "12/12 [==============================] - 11s 945ms/step - loss: 0.0383 - accuracy: 0.9881 - val_loss: 0.5886 - val_accuracy: 0.8995\n",
            "Epoch 30/80\n",
            "12/12 [==============================] - 11s 942ms/step - loss: 0.0804 - accuracy: 0.9750 - val_loss: 0.2808 - val_accuracy: 0.9048\n",
            "Epoch 31/80\n",
            "12/12 [==============================] - 11s 948ms/step - loss: 0.0454 - accuracy: 0.9868 - val_loss: 0.3676 - val_accuracy: 0.9048\n",
            "Epoch 32/80\n",
            "12/12 [==============================] - 12s 980ms/step - loss: 0.0250 - accuracy: 0.9908 - val_loss: 0.3238 - val_accuracy: 0.9206\n",
            "Epoch 33/80\n",
            "12/12 [==============================] - 12s 1s/step - loss: 0.0246 - accuracy: 0.9908 - val_loss: 0.3314 - val_accuracy: 0.9206\n",
            "Epoch 34/80\n",
            "12/12 [==============================] - 12s 971ms/step - loss: 0.0298 - accuracy: 0.9908 - val_loss: 0.3382 - val_accuracy: 0.9312\n",
            "Epoch 35/80\n",
            "12/12 [==============================] - 11s 957ms/step - loss: 0.0244 - accuracy: 0.9895 - val_loss: 0.2292 - val_accuracy: 0.9153\n",
            "Epoch 36/80\n",
            "12/12 [==============================] - 11s 952ms/step - loss: 0.0461 - accuracy: 0.9829 - val_loss: 0.4078 - val_accuracy: 0.9048\n",
            "Epoch 37/80\n",
            "12/12 [==============================] - 11s 953ms/step - loss: 0.0130 - accuracy: 0.9960 - val_loss: 0.4620 - val_accuracy: 0.9206\n",
            "Epoch 38/80\n",
            "12/12 [==============================] - 12s 974ms/step - loss: 0.0591 - accuracy: 0.9789 - val_loss: 0.3963 - val_accuracy: 0.9365\n",
            "Epoch 39/80\n",
            "12/12 [==============================] - 12s 1s/step - loss: 0.0510 - accuracy: 0.9829 - val_loss: 0.2443 - val_accuracy: 0.9153\n",
            "Epoch 40/80\n",
            "12/12 [==============================] - 12s 1s/step - loss: 0.0207 - accuracy: 0.9947 - val_loss: 0.4958 - val_accuracy: 0.9153\n",
            "Epoch 41/80\n",
            "12/12 [==============================] - 12s 999ms/step - loss: 0.0377 - accuracy: 0.9934 - val_loss: 0.2984 - val_accuracy: 0.9365\n",
            "Epoch 42/80\n",
            "12/12 [==============================] - 12s 982ms/step - loss: 0.0111 - accuracy: 0.9960 - val_loss: 0.2977 - val_accuracy: 0.9312\n",
            "Epoch 43/80\n",
            "12/12 [==============================] - 12s 975ms/step - loss: 0.0076 - accuracy: 0.9974 - val_loss: 0.2581 - val_accuracy: 0.9418\n",
            "Epoch 44/80\n",
            "12/12 [==============================] - 11s 961ms/step - loss: 0.0089 - accuracy: 0.9974 - val_loss: 0.4496 - val_accuracy: 0.9365\n",
            "Epoch 45/80\n",
            "12/12 [==============================] - 12s 986ms/step - loss: 0.0012 - accuracy: 1.0000 - val_loss: 0.3975 - val_accuracy: 0.9471\n",
            "Epoch 46/80\n",
            "12/12 [==============================] - 12s 995ms/step - loss: 1.7449e-04 - accuracy: 1.0000 - val_loss: 0.4141 - val_accuracy: 0.9471\n",
            "Epoch 47/80\n",
            "12/12 [==============================] - 12s 983ms/step - loss: 7.2176e-05 - accuracy: 1.0000 - val_loss: 0.4485 - val_accuracy: 0.9418\n",
            "Epoch 48/80\n",
            "12/12 [==============================] - 12s 972ms/step - loss: 5.2679e-05 - accuracy: 1.0000 - val_loss: 0.4627 - val_accuracy: 0.9418\n",
            "Epoch 49/80\n",
            "12/12 [==============================] - 12s 971ms/step - loss: 4.1006e-05 - accuracy: 1.0000 - val_loss: 0.4666 - val_accuracy: 0.9418\n",
            "Epoch 50/80\n",
            "12/12 [==============================] - 12s 972ms/step - loss: 3.2920e-05 - accuracy: 1.0000 - val_loss: 0.4708 - val_accuracy: 0.9418\n",
            "Epoch 51/80\n",
            "12/12 [==============================] - 12s 976ms/step - loss: 2.7409e-05 - accuracy: 1.0000 - val_loss: 0.4768 - val_accuracy: 0.9418\n",
            "Epoch 52/80\n",
            "12/12 [==============================] - 12s 988ms/step - loss: 2.3244e-05 - accuracy: 1.0000 - val_loss: 0.4835 - val_accuracy: 0.9418\n",
            "Epoch 53/80\n",
            "12/12 [==============================] - 12s 993ms/step - loss: 1.9921e-05 - accuracy: 1.0000 - val_loss: 0.4902 - val_accuracy: 0.9418\n",
            "Epoch 54/80\n",
            "12/12 [==============================] - 12s 988ms/step - loss: 1.7183e-05 - accuracy: 1.0000 - val_loss: 0.4962 - val_accuracy: 0.9418\n",
            "Epoch 55/80\n",
            "12/12 [==============================] - 12s 984ms/step - loss: 1.4889e-05 - accuracy: 1.0000 - val_loss: 0.5018 - val_accuracy: 0.9418\n",
            "Epoch 56/80\n",
            "12/12 [==============================] - 12s 981ms/step - loss: 1.2935e-05 - accuracy: 1.0000 - val_loss: 0.5073 - val_accuracy: 0.9418\n",
            "Epoch 57/80\n",
            "12/12 [==============================] - 12s 978ms/step - loss: 1.1294e-05 - accuracy: 1.0000 - val_loss: 0.5130 - val_accuracy: 0.9418\n",
            "Epoch 58/80\n",
            "12/12 [==============================] - 12s 980ms/step - loss: 9.8981e-06 - accuracy: 1.0000 - val_loss: 0.5185 - val_accuracy: 0.9418\n",
            "Epoch 59/80\n",
            "12/12 [==============================] - 12s 978ms/step - loss: 8.6982e-06 - accuracy: 1.0000 - val_loss: 0.5240 - val_accuracy: 0.9418\n",
            "Epoch 60/80\n",
            "12/12 [==============================] - 12s 968ms/step - loss: 7.6720e-06 - accuracy: 1.0000 - val_loss: 0.5294 - val_accuracy: 0.9418\n",
            "Epoch 61/80\n",
            "12/12 [==============================] - 12s 1s/step - loss: 6.7921e-06 - accuracy: 1.0000 - val_loss: 0.5347 - val_accuracy: 0.9418\n",
            "Epoch 62/80\n",
            "12/12 [==============================] - 12s 1s/step - loss: 6.0402e-06 - accuracy: 1.0000 - val_loss: 0.5401 - val_accuracy: 0.9418\n",
            "Epoch 63/80\n",
            "12/12 [==============================] - 12s 993ms/step - loss: 5.3976e-06 - accuracy: 1.0000 - val_loss: 0.5452 - val_accuracy: 0.9418\n",
            "Epoch 64/80\n",
            "12/12 [==============================] - 12s 978ms/step - loss: 4.8491e-06 - accuracy: 1.0000 - val_loss: 0.5502 - val_accuracy: 0.9418\n",
            "Epoch 65/80\n",
            "12/12 [==============================] - 12s 972ms/step - loss: 4.3788e-06 - accuracy: 1.0000 - val_loss: 0.5550 - val_accuracy: 0.9418\n",
            "Epoch 66/80\n",
            "12/12 [==============================] - 12s 973ms/step - loss: 3.9748e-06 - accuracy: 1.0000 - val_loss: 0.5595 - val_accuracy: 0.9418\n",
            "Epoch 67/80\n",
            "12/12 [==============================] - 12s 978ms/step - loss: 3.6282e-06 - accuracy: 1.0000 - val_loss: 0.5639 - val_accuracy: 0.9418\n",
            "Epoch 68/80\n",
            "12/12 [==============================] - 12s 989ms/step - loss: 3.3266e-06 - accuracy: 1.0000 - val_loss: 0.5681 - val_accuracy: 0.9418\n",
            "Epoch 69/80\n",
            "12/12 [==============================] - 12s 991ms/step - loss: 3.0662e-06 - accuracy: 1.0000 - val_loss: 0.5721 - val_accuracy: 0.9418\n",
            "Epoch 70/80\n",
            "12/12 [==============================] - 12s 986ms/step - loss: 2.8395e-06 - accuracy: 1.0000 - val_loss: 0.5759 - val_accuracy: 0.9418\n",
            "Epoch 71/80\n",
            "12/12 [==============================] - 12s 980ms/step - loss: 2.6399e-06 - accuracy: 1.0000 - val_loss: 0.5795 - val_accuracy: 0.9418\n",
            "Epoch 72/80\n",
            "12/12 [==============================] - 12s 979ms/step - loss: 2.4650e-06 - accuracy: 1.0000 - val_loss: 0.5829 - val_accuracy: 0.9418\n",
            "Epoch 73/80\n",
            "12/12 [==============================] - 12s 975ms/step - loss: 2.3089e-06 - accuracy: 1.0000 - val_loss: 0.5862 - val_accuracy: 0.9418\n",
            "Epoch 74/80\n",
            "12/12 [==============================] - 12s 966ms/step - loss: 2.1715e-06 - accuracy: 1.0000 - val_loss: 0.5893 - val_accuracy: 0.9418\n",
            "Epoch 75/80\n",
            "12/12 [==============================] - 12s 1s/step - loss: 2.0474e-06 - accuracy: 1.0000 - val_loss: 0.5923 - val_accuracy: 0.9418\n",
            "Epoch 76/80\n",
            "12/12 [==============================] - 12s 1s/step - loss: 1.9352e-06 - accuracy: 1.0000 - val_loss: 0.5952 - val_accuracy: 0.9418\n",
            "Epoch 77/80\n",
            "12/12 [==============================] - 12s 994ms/step - loss: 1.8329e-06 - accuracy: 1.0000 - val_loss: 0.5979 - val_accuracy: 0.9418\n",
            "Epoch 78/80\n",
            "12/12 [==============================] - 12s 978ms/step - loss: 1.7394e-06 - accuracy: 1.0000 - val_loss: 0.6005 - val_accuracy: 0.9418\n",
            "Epoch 79/80\n",
            "12/12 [==============================] - 11s 957ms/step - loss: 1.6557e-06 - accuracy: 1.0000 - val_loss: 0.6030 - val_accuracy: 0.9418\n",
            "Epoch 80/80\n",
            "12/12 [==============================] - 12s 989ms/step - loss: 1.5776e-06 - accuracy: 1.0000 - val_loss: 0.6055 - val_accuracy: 0.9418\n"
          ]
        },
        {
          "output_type": "execute_result",
          "data": {
            "text/plain": [
              "<keras.callbacks.History at 0x7f212c67e1c0>"
            ]
          },
          "metadata": {},
          "execution_count": 12
        }
      ]
    },
    {
      "cell_type": "code",
      "source": [
        "np.unique(y_train, return_counts=True)"
      ],
      "metadata": {
        "colab": {
          "base_uri": "https://localhost:8080/"
        },
        "id": "B9czeRNpNA3v",
        "outputId": "943b46ce-adf4-4a4b-8a23-d56285ebbe76"
      },
      "execution_count": 12,
      "outputs": [
        {
          "output_type": "execute_result",
          "data": {
            "text/plain": [
              "(array([0, 1]), array([364, 395]))"
            ]
          },
          "metadata": {},
          "execution_count": 12
        }
      ]
    },
    {
      "cell_type": "markdown",
      "source": [
        "\n",
        "### **Classification on VAE augmented dataset**\n",
        "---\n"
      ],
      "metadata": {
        "id": "eXfCc3Vk_zul"
      }
    },
    {
      "cell_type": "markdown",
      "source": [
        "Loading the VAE model"
      ],
      "metadata": {
        "id": "1Ops3tSAAfRs"
      }
    },
    {
      "cell_type": "code",
      "source": [
        "class Sampling(layers.Layer):\n",
        "    \"\"\"Uses (z_mean, z_log_var) to sample z, the vector encoding a digit.\"\"\"\n",
        "\n",
        "    def call(self, inputs):\n",
        "        z_mean, z_log_var = inputs\n",
        "        batch = tf.shape(z_mean)[0]\n",
        "        dim = tf.shape(z_mean)[1]\n",
        "        epsilon = tf.keras.backend.random_normal(shape=(batch, dim))\n",
        "        return z_mean + tf.exp(0.5 * z_log_var) * epsilon"
      ],
      "metadata": {
        "id": "us2N_nxm83Vj"
      },
      "execution_count": 13,
      "outputs": []
    },
    {
      "cell_type": "code",
      "source": [
        "def load_autoencoder(names):\n",
        "  \"\"\"\n",
        "  names is a dictionary containing 'decoder' and 'encoder' names\n",
        "  \"\"\"\n",
        "  encoder = keras.models.load_model(os.path.join(models_path, names['encoder']), custom_objects={'Sampling':Sampling}) \n",
        "  decoder = keras.models.load_model(os.path.join(models_path, names['decoder']))\n",
        "  return encoder, decoder \n",
        "\n",
        "\n",
        "tf.random.set_seed(42)\n",
        "np.random.seed(42)\n",
        "\n",
        "latent_dim = 512\n",
        "\n",
        "\n",
        "def encoder(inputs):\n",
        "  # (224, 224, 3)\n",
        "\n",
        "  x = layers.Conv2D(32, 3, activation=\"relu\", strides=2, padding=\"same\")(inputs) \n",
        "  # (112, 112, 32)\n",
        "\n",
        "  x = layers.Conv2D(64, 3, activation=\"relu\", strides=2, padding=\"same\")(x)\n",
        "  # (56, 56, 64)\n",
        "\n",
        "  x = layers.Conv2D(128, 3, activation=\"relu\", strides=2, padding=\"same\")(x)\n",
        "  # (28, 28, 128)\n",
        "\n",
        "  x = layers.Conv2D(256, 3, activation=\"relu\", strides=2, padding=\"same\")(x)\n",
        "  # (14, 14, 256)\n",
        "\n",
        "  x = layers.Conv2D(512, 3, activation=\"relu\", strides=2, padding=\"same\")(x)\n",
        "  # (7, 7, 512)\n",
        "\n",
        "  x = layers.Flatten()(x)\n",
        "  x = layers.Dense(1024, activation=\"relu\")(x)\n",
        "  x = layers.Dense(1024, activation=\"relu\")(x)\n",
        "\n",
        "  z_mean = layers.Dense(latent_dim, name=\"z_mean\")(x)\n",
        "  z_log_var = layers.Dense(latent_dim, name=\"z_log_var\")(x)\n",
        "  z = Sampling()([z_mean, z_log_var])\n",
        "  v_encoder = keras.Model(inputs, [z_mean, z_log_var, z], name=\"encoder\")\n",
        "  v_encoder.summary()\n",
        "  return v_encoder, z_log_var, z_mean\n",
        "\n",
        "\n",
        "def decoder():\n",
        "  latent_inputs = keras.Input(shape=(latent_dim,))\n",
        "\n",
        "  x = layers.Dense(1024, activation=\"relu\")(latent_inputs)\n",
        "  x = layers.Dense(1024, activation=\"relu\")(x)\n",
        "  x = layers.Dense(7*7*512, activation=\"relu\")(x)\n",
        "  x = layers.Reshape((7, 7, 512))(x)\n",
        "\n",
        "  x = layers.Conv2DTranspose(256, 3, activation=\"relu\", strides=2, padding=\"same\")(x)\n",
        "  # (14, 14, 256)\n",
        "\n",
        "  x = layers.Conv2DTranspose(128, 3, activation=\"relu\", strides=2, padding=\"same\")(x)\n",
        "  # (28, 28, 128)\n",
        "\n",
        "  x = layers.Conv2DTranspose(64, 3, activation=\"relu\", strides=2, padding=\"same\")(x)\n",
        "  # (56, 56, 64)\n",
        "\n",
        "  x = layers.Conv2DTranspose(32, 3, activation=\"relu\", strides=2, padding=\"same\")(x)\n",
        "  # (112, 112, 32)\n",
        "\n",
        "  decoder_outputs = layers.Conv2DTranspose(3, 3, activation=\"sigmoid\",  strides=2, padding=\"same\")(x)\n",
        "  v_decoder = keras.Model(latent_inputs, decoder_outputs, name=\"decoder\")\n",
        "  v_decoder.summary()\n",
        "  return v_decoder\n",
        "\n",
        "\n",
        "inputs = keras.layers.Input(shape=(224, 224, 3))\n",
        "norm_encoder, norm_codings_log_var, norm_codings_mean = encoder(inputs)\n",
        "norm_decoder = decoder()\n",
        "_, _, norm_codings = norm_encoder(inputs)\n",
        "norm_reconstructions = norm_decoder(norm_codings)\n",
        "norm_vae = keras.models.Model(inputs=[inputs], outputs=[norm_reconstructions])\n",
        "\n",
        "latent_loss = -0.5 * K.sum(1 + norm_codings_log_var - K.exp(norm_codings_log_var) - K.square(norm_codings_mean), axis=-1)\n",
        "\n",
        "\n",
        "inputs = keras.layers.Input(shape=(224, 224, 3))\n",
        "sch_encoder, sch_codings_log_var, sch_codings_mean = encoder(inputs)\n",
        "sch_decoder = decoder()\n",
        "_, _, sch_codings = sch_encoder(inputs)\n",
        "sch_reconstructions = sch_decoder(sch_codings)\n",
        "sch_vae = keras.models.Model(inputs=[inputs], outputs=[sch_reconstructions])\n",
        "\n",
        "sch_latent_loss = -0.5 * K.sum(1 + sch_codings_log_var - K.exp(sch_codings_log_var) - K.square(sch_codings_mean), axis=-1)\n"
      ],
      "metadata": {
        "colab": {
          "base_uri": "https://localhost:8080/"
        },
        "id": "FSd6Enip8cxN",
        "outputId": "2f7fcf53-0114-4228-e209-35ae1f9cb5eb"
      },
      "execution_count": 14,
      "outputs": [
        {
          "output_type": "stream",
          "name": "stdout",
          "text": [
            "Model: \"encoder\"\n",
            "__________________________________________________________________________________________________\n",
            " Layer (type)                   Output Shape         Param #     Connected to                     \n",
            "==================================================================================================\n",
            " input_1 (InputLayer)           [(None, 224, 224, 3  0           []                               \n",
            "                                )]                                                                \n",
            "                                                                                                  \n",
            " conv2d_13 (Conv2D)             (None, 112, 112, 32  896         ['input_1[0][0]']                \n",
            "                                )                                                                 \n",
            "                                                                                                  \n",
            " conv2d_14 (Conv2D)             (None, 56, 56, 64)   18496       ['conv2d_13[0][0]']              \n",
            "                                                                                                  \n",
            " conv2d_15 (Conv2D)             (None, 28, 28, 128)  73856       ['conv2d_14[0][0]']              \n",
            "                                                                                                  \n",
            " conv2d_16 (Conv2D)             (None, 14, 14, 256)  295168      ['conv2d_15[0][0]']              \n",
            "                                                                                                  \n",
            " conv2d_17 (Conv2D)             (None, 7, 7, 512)    1180160     ['conv2d_16[0][0]']              \n",
            "                                                                                                  \n",
            " flatten_1 (Flatten)            (None, 25088)        0           ['conv2d_17[0][0]']              \n",
            "                                                                                                  \n",
            " dense_3 (Dense)                (None, 1024)         25691136    ['flatten_1[0][0]']              \n",
            "                                                                                                  \n",
            " dense_4 (Dense)                (None, 1024)         1049600     ['dense_3[0][0]']                \n",
            "                                                                                                  \n",
            " z_mean (Dense)                 (None, 512)          524800      ['dense_4[0][0]']                \n",
            "                                                                                                  \n",
            " z_log_var (Dense)              (None, 512)          524800      ['dense_4[0][0]']                \n",
            "                                                                                                  \n",
            " sampling (Sampling)            (None, 512)          0           ['z_mean[0][0]',                 \n",
            "                                                                  'z_log_var[0][0]']              \n",
            "                                                                                                  \n",
            "==================================================================================================\n",
            "Total params: 29,358,912\n",
            "Trainable params: 29,358,912\n",
            "Non-trainable params: 0\n",
            "__________________________________________________________________________________________________\n",
            "Model: \"decoder\"\n",
            "_________________________________________________________________\n",
            " Layer (type)                Output Shape              Param #   \n",
            "=================================================================\n",
            " input_2 (InputLayer)        [(None, 512)]             0         \n",
            "                                                                 \n",
            " dense_5 (Dense)             (None, 1024)              525312    \n",
            "                                                                 \n",
            " dense_6 (Dense)             (None, 1024)              1049600   \n",
            "                                                                 \n",
            " dense_7 (Dense)             (None, 25088)             25715200  \n",
            "                                                                 \n",
            " reshape (Reshape)           (None, 7, 7, 512)         0         \n",
            "                                                                 \n",
            " conv2d_transpose (Conv2DTra  (None, 14, 14, 256)      1179904   \n",
            " nspose)                                                         \n",
            "                                                                 \n",
            " conv2d_transpose_1 (Conv2DT  (None, 28, 28, 128)      295040    \n",
            " ranspose)                                                       \n",
            "                                                                 \n",
            " conv2d_transpose_2 (Conv2DT  (None, 56, 56, 64)       73792     \n",
            " ranspose)                                                       \n",
            "                                                                 \n",
            " conv2d_transpose_3 (Conv2DT  (None, 112, 112, 32)     18464     \n",
            " ranspose)                                                       \n",
            "                                                                 \n",
            " conv2d_transpose_4 (Conv2DT  (None, 224, 224, 3)      867       \n",
            " ranspose)                                                       \n",
            "                                                                 \n",
            "=================================================================\n",
            "Total params: 28,858,179\n",
            "Trainable params: 28,858,179\n",
            "Non-trainable params: 0\n",
            "_________________________________________________________________\n",
            "Model: \"encoder\"\n",
            "__________________________________________________________________________________________________\n",
            " Layer (type)                   Output Shape         Param #     Connected to                     \n",
            "==================================================================================================\n",
            " input_3 (InputLayer)           [(None, 224, 224, 3  0           []                               \n",
            "                                )]                                                                \n",
            "                                                                                                  \n",
            " conv2d_18 (Conv2D)             (None, 112, 112, 32  896         ['input_3[0][0]']                \n",
            "                                )                                                                 \n",
            "                                                                                                  \n",
            " conv2d_19 (Conv2D)             (None, 56, 56, 64)   18496       ['conv2d_18[0][0]']              \n",
            "                                                                                                  \n",
            " conv2d_20 (Conv2D)             (None, 28, 28, 128)  73856       ['conv2d_19[0][0]']              \n",
            "                                                                                                  \n",
            " conv2d_21 (Conv2D)             (None, 14, 14, 256)  295168      ['conv2d_20[0][0]']              \n",
            "                                                                                                  \n",
            " conv2d_22 (Conv2D)             (None, 7, 7, 512)    1180160     ['conv2d_21[0][0]']              \n",
            "                                                                                                  \n",
            " flatten_2 (Flatten)            (None, 25088)        0           ['conv2d_22[0][0]']              \n",
            "                                                                                                  \n",
            " dense_8 (Dense)                (None, 1024)         25691136    ['flatten_2[0][0]']              \n",
            "                                                                                                  \n",
            " dense_9 (Dense)                (None, 1024)         1049600     ['dense_8[0][0]']                \n",
            "                                                                                                  \n",
            " z_mean (Dense)                 (None, 512)          524800      ['dense_9[0][0]']                \n",
            "                                                                                                  \n",
            " z_log_var (Dense)              (None, 512)          524800      ['dense_9[0][0]']                \n",
            "                                                                                                  \n",
            " sampling_1 (Sampling)          (None, 512)          0           ['z_mean[0][0]',                 \n",
            "                                                                  'z_log_var[0][0]']              \n",
            "                                                                                                  \n",
            "==================================================================================================\n",
            "Total params: 29,358,912\n",
            "Trainable params: 29,358,912\n",
            "Non-trainable params: 0\n",
            "__________________________________________________________________________________________________\n",
            "Model: \"decoder\"\n",
            "_________________________________________________________________\n",
            " Layer (type)                Output Shape              Param #   \n",
            "=================================================================\n",
            " input_4 (InputLayer)        [(None, 512)]             0         \n",
            "                                                                 \n",
            " dense_10 (Dense)            (None, 1024)              525312    \n",
            "                                                                 \n",
            " dense_11 (Dense)            (None, 1024)              1049600   \n",
            "                                                                 \n",
            " dense_12 (Dense)            (None, 25088)             25715200  \n",
            "                                                                 \n",
            " reshape_1 (Reshape)         (None, 7, 7, 512)         0         \n",
            "                                                                 \n",
            " conv2d_transpose_5 (Conv2DT  (None, 14, 14, 256)      1179904   \n",
            " ranspose)                                                       \n",
            "                                                                 \n",
            " conv2d_transpose_6 (Conv2DT  (None, 28, 28, 128)      295040    \n",
            " ranspose)                                                       \n",
            "                                                                 \n",
            " conv2d_transpose_7 (Conv2DT  (None, 56, 56, 64)       73792     \n",
            " ranspose)                                                       \n",
            "                                                                 \n",
            " conv2d_transpose_8 (Conv2DT  (None, 112, 112, 32)     18464     \n",
            " ranspose)                                                       \n",
            "                                                                 \n",
            " conv2d_transpose_9 (Conv2DT  (None, 224, 224, 3)      867       \n",
            " ranspose)                                                       \n",
            "                                                                 \n",
            "=================================================================\n",
            "Total params: 28,858,179\n",
            "Trainable params: 28,858,179\n",
            "Non-trainable params: 0\n",
            "_________________________________________________________________\n"
          ]
        }
      ]
    },
    {
      "cell_type": "code",
      "source": [
        "norm_encoder, norm_decoder = load_autoencoder({'encoder': 'norm_encoder.h5', 'decoder': 'norm_decoder.h5'})"
      ],
      "metadata": {
        "colab": {
          "base_uri": "https://localhost:8080/"
        },
        "id": "LBSGIsUI8jWk",
        "outputId": "b47f1b31-c4ca-4321-8420-f6674e08eccb"
      },
      "execution_count": 15,
      "outputs": [
        {
          "output_type": "stream",
          "name": "stderr",
          "text": [
            "WARNING:tensorflow:No training configuration found in the save file, so the model was *not* compiled. Compile it manually.\n",
            "WARNING:tensorflow:No training configuration found in the save file, so the model was *not* compiled. Compile it manually.\n"
          ]
        }
      ]
    },
    {
      "cell_type": "code",
      "source": [
        "sch_encoder, sch_decoder = load_autoencoder({'encoder': 'sch_encoder.h5', 'decoder': 'sch_decoder.h5'})"
      ],
      "metadata": {
        "colab": {
          "base_uri": "https://localhost:8080/"
        },
        "id": "fXM8jgQBYdg5",
        "outputId": "a6ba47e9-78a1-4433-9dca-b11bc12b93ef"
      },
      "execution_count": 18,
      "outputs": [
        {
          "output_type": "stream",
          "name": "stderr",
          "text": [
            "WARNING:tensorflow:No training configuration found in the save file, so the model was *not* compiled. Compile it manually.\n",
            "WARNING:tensorflow:No training configuration found in the save file, so the model was *not* compiled. Compile it manually.\n"
          ]
        }
      ]
    },
    {
      "cell_type": "code",
      "source": [
        "codings = tf.random.normal(shape=[1, latent_dim])\n",
        "images = sch_decoder(codings).numpy()\n",
        "plt.title('VAE generated sample')\n",
        "plt.imshow(np.squeeze(images))\n",
        "plt.show()\n",
        "\n",
        "plt.title('Original generated sample')\n",
        "plt.imshow(X_train[1])\n",
        "plt.show()"
      ],
      "metadata": {
        "colab": {
          "base_uri": "https://localhost:8080/",
          "height": 545
        },
        "id": "FoFcK5nB9lZy",
        "outputId": "6d8d627c-147f-4bad-f406-b27dc3bb66c9"
      },
      "execution_count": 21,
      "outputs": [
        {
          "output_type": "display_data",
          "data": {
            "text/plain": [
              "<Figure size 432x288 with 1 Axes>"
            ],
            "image/png": "[encoded data removed]"
          },
          "metadata": {
            "needs_background": "light"
          }
        },
        {
          "output_type": "display_data",
          "data": {
            "text/plain": [
              "<Figure size 432x288 with 1 Axes>"
            ],
            "image/png": "[encoded data removed]"
          },
          "metadata": {
            "needs_background": "light"
          }
        }
      ]
    },
    {
      "cell_type": "code",
      "source": [
        "def generate_synth_data(decoder):\n",
        "  codings = tf.random.normal(shape=[1, latent_dim])\n",
        "  images = decoder(codings).numpy()\n",
        "  return np.squeeze(images)\n",
        "\n",
        "generate_synth_data(norm_decoder).shape"
      ],
      "metadata": {
        "colab": {
          "base_uri": "https://localhost:8080/"
        },
        "id": "cdgJsPMf-MHu",
        "outputId": "0122fe62-f37e-4e39-b5d5-0c04237ba1db"
      },
      "execution_count": 22,
      "outputs": [
        {
          "output_type": "execute_result",
          "data": {
            "text/plain": [
              "(224, 224, 3)"
            ]
          },
          "metadata": {},
          "execution_count": 22
        }
      ]
    },
    {
      "cell_type": "code",
      "source": [
        "count = 250\n",
        "synth_sch = [(generate_synth_data(sch_decoder), 1) for i in range(0, count)]\n",
        "synth_norm = [(generate_synth_data(norm_decoder), 0) for i in range(0, count)]\n",
        "synth_dataset = []\n",
        "synth_dataset.extend(synth_sch)\n",
        "synth_dataset.extend(synth_norm)"
      ],
      "metadata": {
        "id": "fH974qjMA5C8"
      },
      "execution_count": 45,
      "outputs": []
    },
    {
      "cell_type": "code",
      "source": [
        "random.shuffle(synth_dataset)\n",
        "X_syn, y_syn = seperate_lebale(synth_dataset)\n",
        "print(X_syn.shape, y_syn.shape)"
      ],
      "metadata": {
        "id": "6g7lHHteCNEz",
        "colab": {
          "base_uri": "https://localhost:8080/"
        },
        "outputId": "65e76efe-7808-4e38-99dc-9f1e7dc61de5"
      },
      "execution_count": 46,
      "outputs": [
        {
          "output_type": "stream",
          "name": "stdout",
          "text": [
            "(500, 224, 224, 3) (500,)\n"
          ]
        }
      ]
    },
    {
      "cell_type": "code",
      "source": [
        "X_aug, y_aug = np.concatenate([X_train, X_syn]), np.concatenate([y_train, y_syn])"
      ],
      "metadata": {
        "id": "-wWYO2dXCpTf"
      },
      "execution_count": 47,
      "outputs": []
    },
    {
      "cell_type": "code",
      "source": [
        "print(np.unique(y_aug, return_counts=True))\n",
        "print(X_aug.shape, y_aug.shape)"
      ],
      "metadata": {
        "colab": {
          "base_uri": "https://localhost:8080/"
        },
        "id": "1r1AxSPS-Mbv",
        "outputId": "13558023-f631-4058-879e-39a222ddc36c"
      },
      "execution_count": 48,
      "outputs": [
        {
          "output_type": "stream",
          "name": "stdout",
          "text": [
            "(array([0, 1]), array([614, 645]))\n",
            "(1259, 224, 224, 3) (1259,)\n"
          ]
        }
      ]
    },
    {
      "cell_type": "code",
      "source": [
        "train_dataset = tf.data.Dataset.from_tensor_slices((X_aug, y_aug))\n",
        "train_aug_ds = train_dataset.shuffle(16).batch(batch_size, drop_remainder=False).cache().prefetch(buffer_size=AUTOTUNE)"
      ],
      "metadata": {
        "id": "EHtxm0SwDKTa"
      },
      "execution_count": 49,
      "outputs": []
    },
    {
      "cell_type": "code",
      "source": [
        "tf.random.set_seed(123)\n",
        "np.random.seed(123)\n",
        "\n",
        "vgg16_model = keras.Sequential()\n",
        "vgg16_model.add(layers.Conv2D(input_shape=(224,224,3),filters=64,kernel_size=(3,3),padding=\"same\", activation=\"relu\"))\n",
        "vgg16_model.add(layers.Conv2D(filters=64,kernel_size=(3,3),padding=\"same\", activation=\"relu\"))\n",
        "vgg16_model.add(layers.MaxPool2D(pool_size=(2,2),strides=(2,2)))\n",
        "vgg16_model.add(layers.Conv2D(filters=128, kernel_size=(3,3), padding=\"same\", activation=\"relu\"))\n",
        "vgg16_model.add(layers.Conv2D(filters=128, kernel_size=(3,3), padding=\"same\", activation=\"relu\"))\n",
        "vgg16_model.add(layers.MaxPooling2D(pool_size=(2,2),strides=(2,2)))\n",
        "vgg16_model.add(layers.Conv2D(filters=256, kernel_size=(3,3), padding=\"same\", activation=\"relu\"))\n",
        "vgg16_model.add(layers.Conv2D(filters=256, kernel_size=(3,3), padding=\"same\", activation=\"relu\"))\n",
        "vgg16_model.add(layers.Conv2D(filters=256, kernel_size=(3,3), padding=\"same\", activation=\"relu\"))\n",
        "vgg16_model.add(layers.MaxPooling2D(pool_size=(2,2),strides=(2,2)))\n",
        "vgg16_model.add(layers.Conv2D(filters=512, kernel_size=(3,3), padding=\"same\", activation=\"relu\"))\n",
        "vgg16_model.add(layers.Conv2D(filters=512, kernel_size=(3,3), padding=\"same\", activation=\"relu\"))\n",
        "vgg16_model.add(layers.Conv2D(filters=512, kernel_size=(3,3), padding=\"same\", activation=\"relu\"))\n",
        "vgg16_model.add(layers.MaxPooling2D(pool_size=(2,2),strides=(2,2)))\n",
        "vgg16_model.add(layers.Conv2D(filters=512, kernel_size=(3,3), padding=\"same\", activation=\"relu\"))\n",
        "vgg16_model.add(layers.Conv2D(filters=512, kernel_size=(3,3), padding=\"same\", activation=\"relu\"))\n",
        "vgg16_model.add(layers.Conv2D(filters=512, kernel_size=(3,3), padding=\"same\", activation=\"relu\"))\n",
        "vgg16_model.add(layers.MaxPooling2D(pool_size=(2,2),strides=(2,2)))\n",
        "vgg16_model.add(layers.Flatten())\n",
        "vgg16_model.add(layers.Dense(4096,activation=\"relu\"))\n",
        "vgg16_model.add(layers.Dense(4096,activation=\"relu\"))\n",
        "vgg16_model.add(layers.Dense(2, activation=\"softmax\"))\n",
        "vgg16_model.summary()"
      ],
      "metadata": {
        "colab": {
          "base_uri": "https://localhost:8080/"
        },
        "id": "Jpsp9tf_FEcn",
        "outputId": "08456732-dd52-4a02-ac88-6bfb855f5755"
      },
      "execution_count": 50,
      "outputs": [
        {
          "output_type": "stream",
          "name": "stdout",
          "text": [
            "Model: \"sequential_4\"\n",
            "_________________________________________________________________\n",
            " Layer (type)                Output Shape              Param #   \n",
            "=================================================================\n",
            " conv2d_62 (Conv2D)          (None, 224, 224, 64)      1792      \n",
            "                                                                 \n",
            " conv2d_63 (Conv2D)          (None, 224, 224, 64)      36928     \n",
            "                                                                 \n",
            " max_pooling2d_20 (MaxPoolin  (None, 112, 112, 64)     0         \n",
            " g2D)                                                            \n",
            "                                                                 \n",
            " conv2d_64 (Conv2D)          (None, 112, 112, 128)     73856     \n",
            "                                                                 \n",
            " conv2d_65 (Conv2D)          (None, 112, 112, 128)     147584    \n",
            "                                                                 \n",
            " max_pooling2d_21 (MaxPoolin  (None, 56, 56, 128)      0         \n",
            " g2D)                                                            \n",
            "                                                                 \n",
            " conv2d_66 (Conv2D)          (None, 56, 56, 256)       295168    \n",
            "                                                                 \n",
            " conv2d_67 (Conv2D)          (None, 56, 56, 256)       590080    \n",
            "                                                                 \n",
            " conv2d_68 (Conv2D)          (None, 56, 56, 256)       590080    \n",
            "                                                                 \n",
            " max_pooling2d_22 (MaxPoolin  (None, 28, 28, 256)      0         \n",
            " g2D)                                                            \n",
            "                                                                 \n",
            " conv2d_69 (Conv2D)          (None, 28, 28, 512)       1180160   \n",
            "                                                                 \n",
            " conv2d_70 (Conv2D)          (None, 28, 28, 512)       2359808   \n",
            "                                                                 \n",
            " conv2d_71 (Conv2D)          (None, 28, 28, 512)       2359808   \n",
            "                                                                 \n",
            " max_pooling2d_23 (MaxPoolin  (None, 14, 14, 512)      0         \n",
            " g2D)                                                            \n",
            "                                                                 \n",
            " conv2d_72 (Conv2D)          (None, 14, 14, 512)       2359808   \n",
            "                                                                 \n",
            " conv2d_73 (Conv2D)          (None, 14, 14, 512)       2359808   \n",
            "                                                                 \n",
            " conv2d_74 (Conv2D)          (None, 14, 14, 512)       2359808   \n",
            "                                                                 \n",
            " max_pooling2d_24 (MaxPoolin  (None, 7, 7, 512)        0         \n",
            " g2D)                                                            \n",
            "                                                                 \n",
            " flatten_6 (Flatten)         (None, 25088)             0         \n",
            "                                                                 \n",
            " dense_22 (Dense)            (None, 4096)              102764544 \n",
            "                                                                 \n",
            " dense_23 (Dense)            (None, 4096)              16781312  \n",
            "                                                                 \n",
            " dense_24 (Dense)            (None, 2)                 8194      \n",
            "                                                                 \n",
            "=================================================================\n",
            "Total params: 134,268,738\n",
            "Trainable params: 134,268,738\n",
            "Non-trainable params: 0\n",
            "_________________________________________________________________\n"
          ]
        }
      ]
    },
    {
      "cell_type": "code",
      "source": [
        "opt = keras.optimizers.Adam(learning_rate=0.0001)\n",
        "vgg16_model.compile(optimizer=opt, loss=tf.keras.losses.SparseCategoricalCrossentropy(), metrics=['accuracy'])\n",
        "\n",
        "vgg16_model.fit(train_aug_ds, validation_data=val_ds, epochs=70)"
      ],
      "metadata": {
        "colab": {
          "base_uri": "https://localhost:8080/"
        },
        "id": "6UOMmJEIDCn3",
        "outputId": "a99ad656-58a7-48ae-f60f-ffc9b97048e5"
      },
      "execution_count": 51,
      "outputs": [
        {
          "output_type": "stream",
          "name": "stdout",
          "text": [
            "Epoch 1/70\n",
            "20/20 [==============================] - 35s 2s/step - loss: 0.6938 - accuracy: 0.5028 - val_loss: 0.6919 - val_accuracy: 0.5767\n",
            "Epoch 2/70\n",
            "20/20 [==============================] - 27s 1s/step - loss: 0.6930 - accuracy: 0.5123 - val_loss: 0.6911 - val_accuracy: 0.5767\n",
            "Epoch 3/70\n",
            "20/20 [==============================] - 28s 1s/step - loss: 0.6929 - accuracy: 0.5123 - val_loss: 0.6902 - val_accuracy: 0.5767\n",
            "Epoch 4/70\n",
            "20/20 [==============================] - 28s 1s/step - loss: 0.6838 - accuracy: 0.5655 - val_loss: 0.6203 - val_accuracy: 0.6349\n",
            "Epoch 5/70\n",
            "20/20 [==============================] - 29s 1s/step - loss: 0.4416 - accuracy: 0.7855 - val_loss: 0.3798 - val_accuracy: 0.8413\n",
            "Epoch 6/70\n",
            "20/20 [==============================] - 28s 1s/step - loss: 0.2392 - accuracy: 0.9166 - val_loss: 0.6634 - val_accuracy: 0.8148\n",
            "Epoch 7/70\n",
            "20/20 [==============================] - 29s 1s/step - loss: 0.1872 - accuracy: 0.9309 - val_loss: 0.7233 - val_accuracy: 0.8677\n",
            "Epoch 8/70\n",
            "20/20 [==============================] - 28s 1s/step - loss: 0.1555 - accuracy: 0.9500 - val_loss: 1.2475 - val_accuracy: 0.8148\n",
            "Epoch 9/70\n",
            "20/20 [==============================] - 29s 1s/step - loss: 0.1854 - accuracy: 0.9428 - val_loss: 0.9971 - val_accuracy: 0.8148\n",
            "Epoch 10/70\n",
            "20/20 [==============================] - 28s 1s/step - loss: 0.1605 - accuracy: 0.9444 - val_loss: 0.9807 - val_accuracy: 0.8254\n",
            "Epoch 11/70\n",
            "20/20 [==============================] - 28s 1s/step - loss: 0.1553 - accuracy: 0.9460 - val_loss: 0.6927 - val_accuracy: 0.8519\n",
            "Epoch 12/70\n",
            "20/20 [==============================] - 29s 1s/step - loss: 0.1574 - accuracy: 0.9515 - val_loss: 0.3165 - val_accuracy: 0.8942\n",
            "Epoch 13/70\n",
            "20/20 [==============================] - 29s 1s/step - loss: 0.1680 - accuracy: 0.9428 - val_loss: 0.3251 - val_accuracy: 0.8571\n",
            "Epoch 14/70\n",
            "20/20 [==============================] - 29s 1s/step - loss: 0.1390 - accuracy: 0.9555 - val_loss: 0.2702 - val_accuracy: 0.8730\n",
            "Epoch 15/70\n",
            "20/20 [==============================] - 29s 1s/step - loss: 0.1078 - accuracy: 0.9539 - val_loss: 0.3698 - val_accuracy: 0.8889\n",
            "Epoch 16/70\n",
            "20/20 [==============================] - 29s 1s/step - loss: 0.1055 - accuracy: 0.9619 - val_loss: 0.3235 - val_accuracy: 0.8995\n",
            "Epoch 17/70\n",
            "20/20 [==============================] - 28s 1s/step - loss: 0.0940 - accuracy: 0.9643 - val_loss: 0.2711 - val_accuracy: 0.8995\n",
            "Epoch 18/70\n",
            "20/20 [==============================] - 28s 1s/step - loss: 0.0727 - accuracy: 0.9746 - val_loss: 0.3820 - val_accuracy: 0.8942\n",
            "Epoch 19/70\n",
            "20/20 [==============================] - 28s 1s/step - loss: 0.0798 - accuracy: 0.9651 - val_loss: 0.3482 - val_accuracy: 0.9206\n",
            "Epoch 20/70\n",
            "20/20 [==============================] - 28s 1s/step - loss: 0.0799 - accuracy: 0.9666 - val_loss: 0.5246 - val_accuracy: 0.8571\n",
            "Epoch 21/70\n",
            "20/20 [==============================] - 29s 1s/step - loss: 0.1032 - accuracy: 0.9579 - val_loss: 0.6117 - val_accuracy: 0.9312\n",
            "Epoch 22/70\n",
            "20/20 [==============================] - 28s 1s/step - loss: 0.1010 - accuracy: 0.9682 - val_loss: 0.5215 - val_accuracy: 0.9101\n",
            "Epoch 23/70\n",
            "20/20 [==============================] - 29s 1s/step - loss: 0.0739 - accuracy: 0.9722 - val_loss: 0.2235 - val_accuracy: 0.9471\n",
            "Epoch 24/70\n",
            "20/20 [==============================] - 28s 1s/step - loss: 0.0413 - accuracy: 0.9825 - val_loss: 0.4237 - val_accuracy: 0.9312\n",
            "Epoch 25/70\n",
            "20/20 [==============================] - 29s 1s/step - loss: 0.0659 - accuracy: 0.9738 - val_loss: 0.3175 - val_accuracy: 0.9577\n",
            "Epoch 26/70\n",
            "20/20 [==============================] - 29s 1s/step - loss: 0.0528 - accuracy: 0.9833 - val_loss: 0.3207 - val_accuracy: 0.9630\n",
            "Epoch 27/70\n",
            "20/20 [==============================] - 29s 1s/step - loss: 0.0721 - accuracy: 0.9786 - val_loss: 0.2772 - val_accuracy: 0.9524\n",
            "Epoch 28/70\n",
            "20/20 [==============================] - 28s 1s/step - loss: 0.0268 - accuracy: 0.9921 - val_loss: 0.3628 - val_accuracy: 0.9577\n",
            "Epoch 29/70\n",
            "20/20 [==============================] - 29s 1s/step - loss: 0.0171 - accuracy: 0.9944 - val_loss: 0.3917 - val_accuracy: 0.9630\n",
            "Epoch 30/70\n",
            "20/20 [==============================] - 29s 1s/step - loss: 0.0383 - accuracy: 0.9841 - val_loss: 0.5574 - val_accuracy: 0.9101\n",
            "Epoch 31/70\n",
            "20/20 [==============================] - 29s 1s/step - loss: 0.0381 - accuracy: 0.9849 - val_loss: 0.2885 - val_accuracy: 0.9365\n",
            "Epoch 32/70\n",
            "20/20 [==============================] - 29s 1s/step - loss: 0.0367 - accuracy: 0.9873 - val_loss: 0.5223 - val_accuracy: 0.9312\n",
            "Epoch 33/70\n",
            "20/20 [==============================] - 29s 1s/step - loss: 0.0213 - accuracy: 0.9897 - val_loss: 0.2449 - val_accuracy: 0.9577\n",
            "Epoch 34/70\n",
            "20/20 [==============================] - 28s 1s/step - loss: 0.0182 - accuracy: 0.9952 - val_loss: 0.3397 - val_accuracy: 0.9471\n",
            "Epoch 35/70\n",
            "20/20 [==============================] - 28s 1s/step - loss: 0.0122 - accuracy: 0.9960 - val_loss: 0.5730 - val_accuracy: 0.9418\n",
            "Epoch 36/70\n",
            "20/20 [==============================] - 28s 1s/step - loss: 0.0094 - accuracy: 0.9936 - val_loss: 0.5101 - val_accuracy: 0.9365\n",
            "Epoch 37/70\n",
            "20/20 [==============================] - 29s 1s/step - loss: 0.0028 - accuracy: 0.9992 - val_loss: 0.6367 - val_accuracy: 0.9418\n",
            "Epoch 38/70\n",
            "20/20 [==============================] - 29s 1s/step - loss: 0.0107 - accuracy: 0.9976 - val_loss: 0.4245 - val_accuracy: 0.9471\n",
            "Epoch 39/70\n",
            "20/20 [==============================] - 29s 1s/step - loss: 0.0310 - accuracy: 0.9913 - val_loss: 0.5925 - val_accuracy: 0.9153\n",
            "Epoch 40/70\n",
            "20/20 [==============================] - 28s 1s/step - loss: 0.0464 - accuracy: 0.9841 - val_loss: 0.4968 - val_accuracy: 0.9101\n",
            "Epoch 41/70\n",
            "20/20 [==============================] - 28s 1s/step - loss: 0.0414 - accuracy: 0.9849 - val_loss: 0.2453 - val_accuracy: 0.9524\n",
            "Epoch 42/70\n",
            "20/20 [==============================] - 28s 1s/step - loss: 0.0069 - accuracy: 0.9992 - val_loss: 0.5009 - val_accuracy: 0.9524\n",
            "Epoch 43/70\n",
            "20/20 [==============================] - 28s 1s/step - loss: 0.0013 - accuracy: 1.0000 - val_loss: 0.6963 - val_accuracy: 0.9524\n",
            "Epoch 44/70\n",
            "20/20 [==============================] - 28s 1s/step - loss: 0.0026 - accuracy: 0.9992 - val_loss: 0.5517 - val_accuracy: 0.9577\n",
            "Epoch 45/70\n",
            "20/20 [==============================] - 28s 1s/step - loss: 0.0090 - accuracy: 0.9968 - val_loss: 0.6706 - val_accuracy: 0.9524\n",
            "Epoch 46/70\n",
            "20/20 [==============================] - 29s 1s/step - loss: 0.0036 - accuracy: 0.9984 - val_loss: 0.5756 - val_accuracy: 0.9365\n",
            "Epoch 47/70\n",
            "20/20 [==============================] - 28s 1s/step - loss: 0.0054 - accuracy: 0.9968 - val_loss: 0.5187 - val_accuracy: 0.9577\n",
            "Epoch 48/70\n",
            "20/20 [==============================] - 28s 1s/step - loss: 0.0050 - accuracy: 0.9992 - val_loss: 0.3018 - val_accuracy: 0.9471\n",
            "Epoch 49/70\n",
            "20/20 [==============================] - 28s 1s/step - loss: 0.0118 - accuracy: 0.9960 - val_loss: 0.4180 - val_accuracy: 0.9471\n",
            "Epoch 50/70\n",
            "20/20 [==============================] - 28s 1s/step - loss: 0.0024 - accuracy: 1.0000 - val_loss: 0.2033 - val_accuracy: 0.9630\n",
            "Epoch 51/70\n",
            "20/20 [==============================] - 28s 1s/step - loss: 0.0182 - accuracy: 0.9944 - val_loss: 0.8763 - val_accuracy: 0.9365\n",
            "Epoch 52/70\n",
            "20/20 [==============================] - 28s 1s/step - loss: 0.0337 - accuracy: 0.9944 - val_loss: 0.1728 - val_accuracy: 0.9577\n",
            "Epoch 53/70\n",
            "20/20 [==============================] - 28s 1s/step - loss: 0.0054 - accuracy: 0.9992 - val_loss: 0.2170 - val_accuracy: 0.9683\n",
            "Epoch 54/70\n",
            "20/20 [==============================] - 28s 1s/step - loss: 3.5257e-04 - accuracy: 1.0000 - val_loss: 0.2603 - val_accuracy: 0.9577\n",
            "Epoch 55/70\n",
            "20/20 [==============================] - 28s 1s/step - loss: 2.3285e-04 - accuracy: 1.0000 - val_loss: 0.3396 - val_accuracy: 0.9577\n",
            "Epoch 56/70\n",
            "20/20 [==============================] - 28s 1s/step - loss: 8.4031e-05 - accuracy: 1.0000 - val_loss: 0.3336 - val_accuracy: 0.9577\n",
            "Epoch 57/70\n",
            "20/20 [==============================] - 28s 1s/step - loss: 4.0197e-05 - accuracy: 1.0000 - val_loss: 0.3849 - val_accuracy: 0.9524\n",
            "Epoch 58/70\n",
            "20/20 [==============================] - 28s 1s/step - loss: 1.2753e-05 - accuracy: 1.0000 - val_loss: 0.3366 - val_accuracy: 0.9524\n",
            "Epoch 59/70\n",
            "20/20 [==============================] - 29s 1s/step - loss: 8.8270e-06 - accuracy: 1.0000 - val_loss: 0.3313 - val_accuracy: 0.9577\n",
            "Epoch 60/70\n",
            "20/20 [==============================] - 28s 1s/step - loss: 7.5980e-06 - accuracy: 1.0000 - val_loss: 0.3350 - val_accuracy: 0.9577\n",
            "Epoch 61/70\n",
            "20/20 [==============================] - 28s 1s/step - loss: 6.6557e-06 - accuracy: 1.0000 - val_loss: 0.3393 - val_accuracy: 0.9577\n",
            "Epoch 62/70\n",
            "20/20 [==============================] - 28s 1s/step - loss: 5.8731e-06 - accuracy: 1.0000 - val_loss: 0.3430 - val_accuracy: 0.9577\n",
            "Epoch 63/70\n",
            "20/20 [==============================] - 28s 1s/step - loss: 5.1988e-06 - accuracy: 1.0000 - val_loss: 0.3460 - val_accuracy: 0.9524\n",
            "Epoch 64/70\n",
            "20/20 [==============================] - 29s 1s/step - loss: 4.6112e-06 - accuracy: 1.0000 - val_loss: 0.3486 - val_accuracy: 0.9524\n",
            "Epoch 65/70\n",
            "20/20 [==============================] - 28s 1s/step - loss: 4.0931e-06 - accuracy: 1.0000 - val_loss: 0.3510 - val_accuracy: 0.9524\n",
            "Epoch 66/70\n",
            "20/20 [==============================] - 28s 1s/step - loss: 3.6377e-06 - accuracy: 1.0000 - val_loss: 0.3533 - val_accuracy: 0.9524\n",
            "Epoch 67/70\n",
            "20/20 [==============================] - 28s 1s/step - loss: 3.2437e-06 - accuracy: 1.0000 - val_loss: 0.3555 - val_accuracy: 0.9524\n",
            "Epoch 68/70\n",
            "20/20 [==============================] - 29s 1s/step - loss: 2.8980e-06 - accuracy: 1.0000 - val_loss: 0.3576 - val_accuracy: 0.9524\n",
            "Epoch 69/70\n",
            "20/20 [==============================] - 28s 1s/step - loss: 2.5957e-06 - accuracy: 1.0000 - val_loss: 0.3599 - val_accuracy: 0.9524\n",
            "Epoch 70/70\n",
            "20/20 [==============================] - 28s 1s/step - loss: 2.3242e-06 - accuracy: 1.0000 - val_loss: 0.3629 - val_accuracy: 0.9524\n"
          ]
        },
        {
          "output_type": "execute_result",
          "data": {
            "text/plain": [
              "<keras.callbacks.History at 0x7f475016bbb0>"
            ]
          },
          "metadata": {},
          "execution_count": 51
        }
      ]
    },
    {
      "cell_type": "markdown",
      "source": [
        "**Augmented Data yields 2% improvements over the normal classification (so far)**"
      ],
      "metadata": {
        "id": "0vyxRTUDyGhz"
      }
    },
    {
      "cell_type": "code",
      "source": [
        "vgg16_model.save(os.path.join(models_path, 'augmented_model.h5'))"
      ],
      "metadata": {
        "id": "yEfhwYLqyGIL"
      },
      "execution_count": 52,
      "outputs": []
    }
  ]
}